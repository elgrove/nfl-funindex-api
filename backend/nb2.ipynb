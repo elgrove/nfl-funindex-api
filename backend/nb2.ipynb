{
 "metadata": {
  "language_info": {
   "codemirror_mode": {
    "name": "ipython",
    "version": 3
   },
   "file_extension": ".py",
   "mimetype": "text/x-python",
   "name": "python",
   "nbconvert_exporter": "python",
   "pygments_lexer": "ipython3",
   "version": "3.9.5"
  },
  "orig_nbformat": 4,
  "kernelspec": {
   "name": "python3",
   "display_name": "Python 3.9.5 64-bit ('nfl-funindex-Q4vAvHch': pipenv)"
  },
  "interpreter": {
   "hash": "1b6d9f7b541a0ebd5e3edc426901e3c331e5fdaf93222c151ca71a4a8be11c87"
  }
 },
 "nbformat": 4,
 "nbformat_minor": 2,
 "cells": [
  {
   "cell_type": "code",
   "execution_count": 2,
   "metadata": {},
   "outputs": [],
   "source": [
    "import re\n",
    "import requests\n",
    "import numpy as np\n",
    "import pandas as pd\n",
    "from bs4 import BeautifulSoup\n",
    "import datetime as dt\n",
    "import sqlite3\n",
    "import math"
   ]
  },
  {
   "cell_type": "code",
   "execution_count": null,
   "metadata": {},
   "outputs": [],
   "source": []
  },
  {
   "cell_type": "code",
   "execution_count": 20,
   "metadata": {},
   "outputs": [],
   "source": [
    "url = 'https://www.pro-football-reference.com/boxscores/202012060min.htm'\n",
    "res = requests.get(url)\n",
    "# use re to escape html comments\n",
    "comm = re.compile(\"<!--|-->\")\n",
    "soup = BeautifulSoup(comm.sub(\"\", res.text), 'lxml')\n",
    "# get content div, holds all body content\n",
    "divs = soup.findAll('div', id = \"content\")\n",
    "# table for points by quarter\n",
    "points = pd.read_html(res.text)[0]\n"
   ]
  },
  {
   "cell_type": "code",
   "execution_count": 5,
   "metadata": {},
   "outputs": [
    {
     "output_type": "execute_result",
     "data": {
      "text/plain": [
       "                          Unnamed: 0         Unnamed: 1   1   2  3   4  OT  \\\n",
       "0  via Sports Logos.net  About logos   Seattle Seahawks  10  17  0   7   0   \n",
       "1  via Sports Logos.net  About logos  Arizona Cardinals   7  10  7  10   3   \n",
       "\n",
       "   Final  \n",
       "0     34  \n",
       "1     37  "
      ],
      "text/html": "<div>\n<style scoped>\n    .dataframe tbody tr th:only-of-type {\n        vertical-align: middle;\n    }\n\n    .dataframe tbody tr th {\n        vertical-align: top;\n    }\n\n    .dataframe thead th {\n        text-align: right;\n    }\n</style>\n<table border=\"1\" class=\"dataframe\">\n  <thead>\n    <tr style=\"text-align: right;\">\n      <th></th>\n      <th>Unnamed: 0</th>\n      <th>Unnamed: 1</th>\n      <th>1</th>\n      <th>2</th>\n      <th>3</th>\n      <th>4</th>\n      <th>OT</th>\n      <th>Final</th>\n    </tr>\n  </thead>\n  <tbody>\n    <tr>\n      <th>0</th>\n      <td>via Sports Logos.net  About logos</td>\n      <td>Seattle Seahawks</td>\n      <td>10</td>\n      <td>17</td>\n      <td>0</td>\n      <td>7</td>\n      <td>0</td>\n      <td>34</td>\n    </tr>\n    <tr>\n      <th>1</th>\n      <td>via Sports Logos.net  About logos</td>\n      <td>Arizona Cardinals</td>\n      <td>7</td>\n      <td>10</td>\n      <td>7</td>\n      <td>10</td>\n      <td>3</td>\n      <td>37</td>\n    </tr>\n  </tbody>\n</table>\n</div>"
     },
     "metadata": {},
     "execution_count": 5
    }
   ],
   "source": [
    "points"
   ]
  },
  {
   "cell_type": "code",
   "execution_count": 21,
   "metadata": {},
   "outputs": [
    {
     "output_type": "execute_result",
     "data": {
      "text/plain": [
       "(2, 8)"
      ]
     },
     "metadata": {},
     "execution_count": 21
    }
   ],
   "source": [
    "points.shape"
   ]
  },
  {
   "cell_type": "code",
   "execution_count": 17,
   "metadata": {},
   "outputs": [],
   "source": [
    "nonot = (2,7)\n",
    "ot = (2,8)"
   ]
  },
  {
   "cell_type": "code",
   "execution_count": 23,
   "metadata": {},
   "outputs": [],
   "source": [
    "ot = 0\n",
    "if points.shape == (2,8):\n",
    "    ot = 1"
   ]
  },
  {
   "cell_type": "code",
   "execution_count": 24,
   "metadata": {},
   "outputs": [
    {
     "output_type": "execute_result",
     "data": {
      "text/plain": [
       "1"
      ]
     },
     "metadata": {},
     "execution_count": 24
    }
   ],
   "source": [
    "ot"
   ]
  },
  {
   "cell_type": "code",
   "execution_count": 11,
   "metadata": {},
   "outputs": [],
   "source": [
    "teama_pts = int(points.iloc[0,-1])\n"
   ]
  },
  {
   "cell_type": "code",
   "execution_count": 12,
   "metadata": {},
   "outputs": [
    {
     "output_type": "execute_result",
     "data": {
      "text/plain": [
       "34"
      ]
     },
     "metadata": {},
     "execution_count": 12
    }
   ],
   "source": [
    "teama_pts"
   ]
  }
 ]
}