{
 "metadata": {
  "language_info": {
   "codemirror_mode": {
    "name": "ipython",
    "version": 3
   },
   "file_extension": ".py",
   "mimetype": "text/x-python",
   "name": "python",
   "nbconvert_exporter": "python",
   "pygments_lexer": "ipython3",
   "version": "3.9.2"
  },
  "orig_nbformat": 4,
  "kernelspec": {
   "name": "python3",
   "display_name": "Python 3.9.2 64-bit ('venv')"
  },
  "interpreter": {
   "hash": "db433505a1119f38b61e3b05d163b0176e9b613d100bb7f2a8737d86cb79703d"
  }
 },
 "nbformat": 4,
 "nbformat_minor": 2,
 "cells": [
  {
   "cell_type": "code",
   "execution_count": 1,
   "metadata": {},
   "outputs": [],
   "source": [
    "import re\n",
    "import requests\n",
    "import numpy as np\n",
    "import pandas as pd\n",
    "from bs4 import BeautifulSoup\n",
    "import datetime as dt\n",
    "import sqlite3"
   ]
  },
  {
   "cell_type": "code",
   "execution_count": 2,
   "metadata": {},
   "outputs": [],
   "source": [
    "'''scrapes game url returning a dict'''\n",
    "url = 'https://www.pro-football-reference.com/boxscores/202012130car.htm'\n",
    "res = requests.get(url)\n",
    "# use re to escape html comments\n",
    "comm = re.compile(\"<!--|-->\")\n",
    "soup = BeautifulSoup(comm.sub(\"\", res.text), 'lxml')\n",
    "# get content div, holds all body content\n",
    "divs = soup.findAll('div', id = \"content\")\n",
    "# table for points by quarter\n",
    "points = pd.read_html(res.text)[0]\n",
    "# table for scoring stats\n",
    "stats = pd.read_html(str(divs[0].findAll(\n",
    "    \"div\",id=re.compile(\"^all_team_stats\"))[0].findAll('table')[0]))[0]\n",
    "\n",
    "# get datetime object for the dict\n",
    "date_ = divs[0].findAll(\"div\", class_='scorebox')[0].findAll(\n",
    "    'div',class_='scorebox_meta')[0].findAll('div')[0].text\n",
    "time_ = divs[0].findAll(\"div\", class_='scorebox')[0].findAll(\n",
    "    'div', class_='scorebox_meta')[0].findAll('div')[1].text.replace('Start Time: ', '')\n",
    "datestr = date_ + ' ' + time_\n",
    "dateobj = dt.datetime.strptime(datestr, '%A %b %d, %Y %I:%M%p')\n",
    "\n",
    "# get week number, all of the playoffs is called week 18\n",
    "if soup.findAll('h2')[0].text.endswith('Playoffs') == True:\n",
    "    week_ = '18'\n",
    "else:\n",
    "    week_ = soup.findAll('h2')[0].text.replace('NFL Scores — Week ', '')\n",
    "\n",
    "if dateobj.month >= 7:\n",
    "    season_ = dateobj.year\n",
    "else:\n",
    "    season_ = dateobj.year - 1\n",
    "\n",
    "game_dict = {}"
   ]
  },
  {
   "cell_type": "code",
   "execution_count": 3,
   "metadata": {},
   "outputs": [
    {
     "output_type": "execute_result",
     "data": {
      "text/plain": [
       "                          Unnamed: 0         Unnamed: 1  1  2   3   4  Final\n",
       "0  via Sports Logos.net  About logos     Denver Broncos  6  7  12   7     32\n",
       "1  via Sports Logos.net  About logos  Carolina Panthers  0  7   3  17     27"
      ],
      "text/html": "<div>\n<style scoped>\n    .dataframe tbody tr th:only-of-type {\n        vertical-align: middle;\n    }\n\n    .dataframe tbody tr th {\n        vertical-align: top;\n    }\n\n    .dataframe thead th {\n        text-align: right;\n    }\n</style>\n<table border=\"1\" class=\"dataframe\">\n  <thead>\n    <tr style=\"text-align: right;\">\n      <th></th>\n      <th>Unnamed: 0</th>\n      <th>Unnamed: 1</th>\n      <th>1</th>\n      <th>2</th>\n      <th>3</th>\n      <th>4</th>\n      <th>Final</th>\n    </tr>\n  </thead>\n  <tbody>\n    <tr>\n      <th>0</th>\n      <td>via Sports Logos.net  About logos</td>\n      <td>Denver Broncos</td>\n      <td>6</td>\n      <td>7</td>\n      <td>12</td>\n      <td>7</td>\n      <td>32</td>\n    </tr>\n    <tr>\n      <th>1</th>\n      <td>via Sports Logos.net  About logos</td>\n      <td>Carolina Panthers</td>\n      <td>0</td>\n      <td>7</td>\n      <td>3</td>\n      <td>17</td>\n      <td>27</td>\n    </tr>\n  </tbody>\n</table>\n</div>"
     },
     "metadata": {},
     "execution_count": 3
    }
   ],
   "source": [
    "pd.read_html(res.text)[0]"
   ]
  },
  {
   "cell_type": "code",
   "execution_count": 4,
   "metadata": {},
   "outputs": [
    {
     "output_type": "execute_result",
     "data": {
      "text/plain": [
       "'365'"
      ]
     },
     "metadata": {},
     "execution_count": 4
    }
   ],
   "source": [
    "stats.iloc[5,1]"
   ]
  },
  {
   "cell_type": "code",
   "execution_count": 5,
   "metadata": {},
   "outputs": [
    {
     "output_type": "execute_result",
     "data": {
      "text/plain": [
       "            Unnamed: 0            DEN            CAR\n",
       "0          First Downs             23             22\n",
       "1         Rush-Yds-TDs        30-96-0       21-125-3\n",
       "2    Cmp-Att-Yd-TD-INT  21-27-280-4-0  30-40-283-0-0\n",
       "3         Sacked-Yards           1-11           4-38\n",
       "4       Net Pass Yards            269            245\n",
       "5          Total Yards            365            370\n",
       "6         Fumbles-Lost            2-1            0-0\n",
       "7            Turnovers              1              0\n",
       "8      Penalties-Yards           2-18           7-48\n",
       "9     Third Down Conv.            3-8           6-14\n",
       "10   Fourth Down Conv.            0-0            0-1\n",
       "11  Time of Possession          29:32          30:28"
      ],
      "text/html": "<div>\n<style scoped>\n    .dataframe tbody tr th:only-of-type {\n        vertical-align: middle;\n    }\n\n    .dataframe tbody tr th {\n        vertical-align: top;\n    }\n\n    .dataframe thead th {\n        text-align: right;\n    }\n</style>\n<table border=\"1\" class=\"dataframe\">\n  <thead>\n    <tr style=\"text-align: right;\">\n      <th></th>\n      <th>Unnamed: 0</th>\n      <th>DEN</th>\n      <th>CAR</th>\n    </tr>\n  </thead>\n  <tbody>\n    <tr>\n      <th>0</th>\n      <td>First Downs</td>\n      <td>23</td>\n      <td>22</td>\n    </tr>\n    <tr>\n      <th>1</th>\n      <td>Rush-Yds-TDs</td>\n      <td>30-96-0</td>\n      <td>21-125-3</td>\n    </tr>\n    <tr>\n      <th>2</th>\n      <td>Cmp-Att-Yd-TD-INT</td>\n      <td>21-27-280-4-0</td>\n      <td>30-40-283-0-0</td>\n    </tr>\n    <tr>\n      <th>3</th>\n      <td>Sacked-Yards</td>\n      <td>1-11</td>\n      <td>4-38</td>\n    </tr>\n    <tr>\n      <th>4</th>\n      <td>Net Pass Yards</td>\n      <td>269</td>\n      <td>245</td>\n    </tr>\n    <tr>\n      <th>5</th>\n      <td>Total Yards</td>\n      <td>365</td>\n      <td>370</td>\n    </tr>\n    <tr>\n      <th>6</th>\n      <td>Fumbles-Lost</td>\n      <td>2-1</td>\n      <td>0-0</td>\n    </tr>\n    <tr>\n      <th>7</th>\n      <td>Turnovers</td>\n      <td>1</td>\n      <td>0</td>\n    </tr>\n    <tr>\n      <th>8</th>\n      <td>Penalties-Yards</td>\n      <td>2-18</td>\n      <td>7-48</td>\n    </tr>\n    <tr>\n      <th>9</th>\n      <td>Third Down Conv.</td>\n      <td>3-8</td>\n      <td>6-14</td>\n    </tr>\n    <tr>\n      <th>10</th>\n      <td>Fourth Down Conv.</td>\n      <td>0-0</td>\n      <td>0-1</td>\n    </tr>\n    <tr>\n      <th>11</th>\n      <td>Time of Possession</td>\n      <td>29:32</td>\n      <td>30:28</td>\n    </tr>\n  </tbody>\n</table>\n</div>"
     },
     "metadata": {},
     "execution_count": 5
    }
   ],
   "source": [
    "stats"
   ]
  },
  {
   "cell_type": "code",
   "execution_count": 6,
   "metadata": {},
   "outputs": [
    {
     "output_type": "execute_result",
     "data": {
      "text/plain": [
       "'4'"
      ]
     },
     "metadata": {},
     "execution_count": 6
    }
   ],
   "source": [
    "stats.iloc[3, 2].split('-')[0]"
   ]
  },
  {
   "cell_type": "code",
   "execution_count": 7,
   "metadata": {},
   "outputs": [],
   "source": [
    "returns = pd.read_html(str(divs[0].findAll(\n",
    "    \"table\",id='returns')))[0]"
   ]
  },
  {
   "cell_type": "code",
   "execution_count": 8,
   "metadata": {},
   "outputs": [
    {
     "output_type": "execute_result",
     "data": {
      "text/plain": [
       "'Diontae Spencer'"
      ]
     },
     "metadata": {},
     "execution_count": 8
    }
   ],
   "source": [
    "returns.iloc[0,0]"
   ]
  },
  {
   "cell_type": "code",
   "execution_count": 9,
   "metadata": {},
   "outputs": [
    {
     "output_type": "execute_result",
     "data": {
      "text/plain": [
       "nan"
      ]
     },
     "metadata": {},
     "execution_count": 9
    }
   ],
   "source": [
    "returns.iloc[1,0]"
   ]
  },
  {
   "cell_type": "code",
   "execution_count": 10,
   "metadata": {},
   "outputs": [
    {
     "output_type": "execute_result",
     "data": {
      "text/plain": [
       "'Player'"
      ]
     },
     "metadata": {},
     "execution_count": 10
    }
   ],
   "source": [
    "returns.iloc[2,0]"
   ]
  },
  {
   "cell_type": "code",
   "execution_count": 11,
   "metadata": {},
   "outputs": [],
   "source": [
    "import math"
   ]
  },
  {
   "cell_type": "code",
   "execution_count": 12,
   "metadata": {},
   "outputs": [],
   "source": [
    "split_row = None"
   ]
  },
  {
   "cell_type": "code",
   "execution_count": 13,
   "metadata": {},
   "outputs": [],
   "source": [
    "try:\n",
    "    math.isnan(returns.iloc[0,0])\n",
    "    split_row = 0\n",
    "except:\n",
    "    pass\n",
    "try:\n",
    "    math.isnan(returns.iloc[1,0])\n",
    "    split_row = 1\n",
    "except:\n",
    "    pass\n",
    "try:\n",
    "    math.isnan(returns.iloc[2,0])\n",
    "    split_row = 2\n",
    "except:\n",
    "    pass\n",
    "try:\n",
    "    math.isnan(returns.iloc[3,0])\n",
    "    split_row = 3\n",
    "except:\n",
    "    pass\n",
    "try:\n",
    "    math.isnan(returns.iloc[4,0])\n",
    "    split_row = 4\n",
    "except:\n",
    "    pass"
   ]
  },
  {
   "cell_type": "code",
   "execution_count": 14,
   "metadata": {},
   "outputs": [
    {
     "output_type": "execute_result",
     "data": {
      "text/plain": [
       "1"
      ]
     },
     "metadata": {},
     "execution_count": 14
    }
   ],
   "source": [
    "split_row"
   ]
  },
  {
   "cell_type": "code",
   "execution_count": 15,
   "metadata": {},
   "outputs": [
    {
     "output_type": "execute_result",
     "data": {
      "text/plain": [
       "  Unnamed: 0_level_0 Unnamed: 1_level_0  Kick Returns                \\\n",
       "              Player                 Tm            Rt           Yds   \n",
       "0    Diontae Spencer                DEN             1             5   \n",
       "1                NaN                NaN  Kick Returns  Kick Returns   \n",
       "2             Player                 Tm            Rt           Yds   \n",
       "3      Pharoh Cooper                CAR             0             0   \n",
       "4     Trenton Cannon                CAR             1            16   \n",
       "\n",
       "                                             Punt Returns                \\\n",
       "           Y/Rt            TD           Lng           Ret           Yds   \n",
       "0           5.0             0             5             1            83   \n",
       "1  Kick Returns  Kick Returns  Kick Returns  Punt Returns  Punt Returns   \n",
       "2          Y/Rt            TD           Lng           Ret           Yds   \n",
       "3           NaN             0             0             2             0   \n",
       "4          16.0             0            16             0             0   \n",
       "\n",
       "                                             \n",
       "            Y/R            TD           Lng  \n",
       "0          83.0             1            83  \n",
       "1  Punt Returns  Punt Returns  Punt Returns  \n",
       "2           Y/R            TD           Lng  \n",
       "3           0.0             0             0  \n",
       "4           NaN             0             0  "
      ],
      "text/html": "<div>\n<style scoped>\n    .dataframe tbody tr th:only-of-type {\n        vertical-align: middle;\n    }\n\n    .dataframe tbody tr th {\n        vertical-align: top;\n    }\n\n    .dataframe thead tr th {\n        text-align: left;\n    }\n</style>\n<table border=\"1\" class=\"dataframe\">\n  <thead>\n    <tr>\n      <th></th>\n      <th>Unnamed: 0_level_0</th>\n      <th>Unnamed: 1_level_0</th>\n      <th colspan=\"5\" halign=\"left\">Kick Returns</th>\n      <th colspan=\"5\" halign=\"left\">Punt Returns</th>\n    </tr>\n    <tr>\n      <th></th>\n      <th>Player</th>\n      <th>Tm</th>\n      <th>Rt</th>\n      <th>Yds</th>\n      <th>Y/Rt</th>\n      <th>TD</th>\n      <th>Lng</th>\n      <th>Ret</th>\n      <th>Yds</th>\n      <th>Y/R</th>\n      <th>TD</th>\n      <th>Lng</th>\n    </tr>\n  </thead>\n  <tbody>\n    <tr>\n      <th>0</th>\n      <td>Diontae Spencer</td>\n      <td>DEN</td>\n      <td>1</td>\n      <td>5</td>\n      <td>5.0</td>\n      <td>0</td>\n      <td>5</td>\n      <td>1</td>\n      <td>83</td>\n      <td>83.0</td>\n      <td>1</td>\n      <td>83</td>\n    </tr>\n    <tr>\n      <th>1</th>\n      <td>NaN</td>\n      <td>NaN</td>\n      <td>Kick Returns</td>\n      <td>Kick Returns</td>\n      <td>Kick Returns</td>\n      <td>Kick Returns</td>\n      <td>Kick Returns</td>\n      <td>Punt Returns</td>\n      <td>Punt Returns</td>\n      <td>Punt Returns</td>\n      <td>Punt Returns</td>\n      <td>Punt Returns</td>\n    </tr>\n    <tr>\n      <th>2</th>\n      <td>Player</td>\n      <td>Tm</td>\n      <td>Rt</td>\n      <td>Yds</td>\n      <td>Y/Rt</td>\n      <td>TD</td>\n      <td>Lng</td>\n      <td>Ret</td>\n      <td>Yds</td>\n      <td>Y/R</td>\n      <td>TD</td>\n      <td>Lng</td>\n    </tr>\n    <tr>\n      <th>3</th>\n      <td>Pharoh Cooper</td>\n      <td>CAR</td>\n      <td>0</td>\n      <td>0</td>\n      <td>NaN</td>\n      <td>0</td>\n      <td>0</td>\n      <td>2</td>\n      <td>0</td>\n      <td>0.0</td>\n      <td>0</td>\n      <td>0</td>\n    </tr>\n    <tr>\n      <th>4</th>\n      <td>Trenton Cannon</td>\n      <td>CAR</td>\n      <td>1</td>\n      <td>16</td>\n      <td>16.0</td>\n      <td>0</td>\n      <td>16</td>\n      <td>0</td>\n      <td>0</td>\n      <td>NaN</td>\n      <td>0</td>\n      <td>0</td>\n    </tr>\n  </tbody>\n</table>\n</div>"
     },
     "metadata": {},
     "execution_count": 15
    }
   ],
   "source": [
    "returns"
   ]
  },
  {
   "cell_type": "code",
   "execution_count": 16,
   "metadata": {},
   "outputs": [],
   "source": [
    "returns.columns = returns.columns.droplevel()"
   ]
  },
  {
   "cell_type": "code",
   "execution_count": 17,
   "metadata": {},
   "outputs": [],
   "source": [
    "away_returns = returns.copy().loc[:split_row-1]"
   ]
  },
  {
   "cell_type": "code",
   "execution_count": 18,
   "metadata": {},
   "outputs": [],
   "source": [
    "away_returns.columns = ['Player', 'Tm', 'Rt', 'Yds', 'Y/Rt', 'TD-kick', 'Lng', 'Ret', 'Yds', 'Y/R', 'TD-punt', 'Lng']"
   ]
  },
  {
   "cell_type": "code",
   "execution_count": 19,
   "metadata": {},
   "outputs": [
    {
     "output_type": "execute_result",
     "data": {
      "text/plain": [
       "1"
      ]
     },
     "metadata": {},
     "execution_count": 19
    }
   ],
   "source": [
    "away_returns['TD-kick'].astype(int).sum() + away_returns['TD-punt'].astype(int).sum()"
   ]
  },
  {
   "cell_type": "code",
   "execution_count": 20,
   "metadata": {},
   "outputs": [],
   "source": [
    "home_returns = returns.copy().loc[split_row+2:]"
   ]
  },
  {
   "cell_type": "code",
   "execution_count": 21,
   "metadata": {},
   "outputs": [],
   "source": [
    "home_returns.columns = ['Player', 'Tm', 'Rt', 'Yds', 'Y/Rt', 'TD-kick', 'Lng', 'Ret', 'Yds', 'Y/R', 'TD-punt', 'Lng']"
   ]
  },
  {
   "cell_type": "code",
   "execution_count": 22,
   "metadata": {},
   "outputs": [
    {
     "output_type": "execute_result",
     "data": {
      "text/plain": [
       "0"
      ]
     },
     "metadata": {},
     "execution_count": 22
    }
   ],
   "source": [
    "home_returns['TD-kick'].astype(int).sum() + home_returns['TD-punt'].astype(int).sum()"
   ]
  },
  {
   "cell_type": "code",
   "execution_count": 29,
   "metadata": {},
   "outputs": [
    {
     "output_type": "execute_result",
     "data": {
      "text/plain": [
       "            Player   Tm Rt Yds Y/Rt TD-kick Lng Ret Yds   Y/R TD-punt Lng\n",
       "0  Diontae Spencer  DEN  1   5  5.0       0   5   1  83  83.0       1  83"
      ],
      "text/html": "<div>\n<style scoped>\n    .dataframe tbody tr th:only-of-type {\n        vertical-align: middle;\n    }\n\n    .dataframe tbody tr th {\n        vertical-align: top;\n    }\n\n    .dataframe thead th {\n        text-align: right;\n    }\n</style>\n<table border=\"1\" class=\"dataframe\">\n  <thead>\n    <tr style=\"text-align: right;\">\n      <th></th>\n      <th>Player</th>\n      <th>Tm</th>\n      <th>Rt</th>\n      <th>Yds</th>\n      <th>Y/Rt</th>\n      <th>TD-kick</th>\n      <th>Lng</th>\n      <th>Ret</th>\n      <th>Yds</th>\n      <th>Y/R</th>\n      <th>TD-punt</th>\n      <th>Lng</th>\n    </tr>\n  </thead>\n  <tbody>\n    <tr>\n      <th>0</th>\n      <td>Diontae Spencer</td>\n      <td>DEN</td>\n      <td>1</td>\n      <td>5</td>\n      <td>5.0</td>\n      <td>0</td>\n      <td>5</td>\n      <td>1</td>\n      <td>83</td>\n      <td>83.0</td>\n      <td>1</td>\n      <td>83</td>\n    </tr>\n  </tbody>\n</table>\n</div>"
     },
     "metadata": {},
     "execution_count": 29
    }
   ],
   "source": [
    "away_returns"
   ]
  },
  {
   "cell_type": "code",
   "execution_count": null,
   "metadata": {},
   "outputs": [],
   "source": []
  },
  {
   "cell_type": "code",
   "execution_count": null,
   "metadata": {},
   "outputs": [],
   "source": []
  },
  {
   "cell_type": "code",
   "execution_count": null,
   "metadata": {},
   "outputs": [],
   "source": []
  },
  {
   "cell_type": "code",
   "execution_count": null,
   "metadata": {},
   "outputs": [],
   "source": []
  },
  {
   "cell_type": "code",
   "execution_count": 23,
   "metadata": {},
   "outputs": [
    {
     "output_type": "execute_result",
     "data": {
      "text/plain": [
       "           Player   Tm Rt Yds  Y/Rt TD Lng Ret Yds  Y/R TD Lng\n",
       "3   Pharoh Cooper  CAR  0   0   NaN  0   0   2   0  0.0  0   0\n",
       "4  Trenton Cannon  CAR  1  16  16.0  0  16   0   0  NaN  0   0"
      ],
      "text/html": "<div>\n<style scoped>\n    .dataframe tbody tr th:only-of-type {\n        vertical-align: middle;\n    }\n\n    .dataframe tbody tr th {\n        vertical-align: top;\n    }\n\n    .dataframe thead th {\n        text-align: right;\n    }\n</style>\n<table border=\"1\" class=\"dataframe\">\n  <thead>\n    <tr style=\"text-align: right;\">\n      <th></th>\n      <th>Player</th>\n      <th>Tm</th>\n      <th>Rt</th>\n      <th>Yds</th>\n      <th>Y/Rt</th>\n      <th>TD</th>\n      <th>Lng</th>\n      <th>Ret</th>\n      <th>Yds</th>\n      <th>Y/R</th>\n      <th>TD</th>\n      <th>Lng</th>\n    </tr>\n  </thead>\n  <tbody>\n    <tr>\n      <th>3</th>\n      <td>Pharoh Cooper</td>\n      <td>CAR</td>\n      <td>0</td>\n      <td>0</td>\n      <td>NaN</td>\n      <td>0</td>\n      <td>0</td>\n      <td>2</td>\n      <td>0</td>\n      <td>0.0</td>\n      <td>0</td>\n      <td>0</td>\n    </tr>\n    <tr>\n      <th>4</th>\n      <td>Trenton Cannon</td>\n      <td>CAR</td>\n      <td>1</td>\n      <td>16</td>\n      <td>16.0</td>\n      <td>0</td>\n      <td>16</td>\n      <td>0</td>\n      <td>0</td>\n      <td>NaN</td>\n      <td>0</td>\n      <td>0</td>\n    </tr>\n  </tbody>\n</table>\n</div>"
     },
     "metadata": {},
     "execution_count": 23
    }
   ],
   "source": [
    "returns.loc[split_row+2:]"
   ]
  },
  {
   "cell_type": "code",
   "execution_count": 24,
   "metadata": {},
   "outputs": [
    {
     "output_type": "execute_result",
     "data": {
      "text/plain": [
       "            Player   Tm Rt Yds Y/Rt TD Lng Ret Yds   Y/R TD Lng\n",
       "0  Diontae Spencer  DEN  1   5  5.0  0   5   1  83  83.0  1  83"
      ],
      "text/html": "<div>\n<style scoped>\n    .dataframe tbody tr th:only-of-type {\n        vertical-align: middle;\n    }\n\n    .dataframe tbody tr th {\n        vertical-align: top;\n    }\n\n    .dataframe thead th {\n        text-align: right;\n    }\n</style>\n<table border=\"1\" class=\"dataframe\">\n  <thead>\n    <tr style=\"text-align: right;\">\n      <th></th>\n      <th>Player</th>\n      <th>Tm</th>\n      <th>Rt</th>\n      <th>Yds</th>\n      <th>Y/Rt</th>\n      <th>TD</th>\n      <th>Lng</th>\n      <th>Ret</th>\n      <th>Yds</th>\n      <th>Y/R</th>\n      <th>TD</th>\n      <th>Lng</th>\n    </tr>\n  </thead>\n  <tbody>\n    <tr>\n      <th>0</th>\n      <td>Diontae Spencer</td>\n      <td>DEN</td>\n      <td>1</td>\n      <td>5</td>\n      <td>5.0</td>\n      <td>0</td>\n      <td>5</td>\n      <td>1</td>\n      <td>83</td>\n      <td>83.0</td>\n      <td>1</td>\n      <td>83</td>\n    </tr>\n  </tbody>\n</table>\n</div>"
     },
     "metadata": {},
     "execution_count": 24
    }
   ],
   "source": [
    "returns.loc[:split_row-1]"
   ]
  },
  {
   "cell_type": "code",
   "execution_count": 25,
   "metadata": {},
   "outputs": [
    {
     "output_type": "stream",
     "name": "stdout",
     "text": [
      "<class 'pandas.core.frame.DataFrame'>\nRangeIndex: 1 entries, 0 to 0\nData columns (total 12 columns):\n #   Column   Non-Null Count  Dtype \n---  ------   --------------  ----- \n 0   Player   1 non-null      object\n 1   Tm       1 non-null      object\n 2   Rt       1 non-null      object\n 3   Yds      1 non-null      object\n 4   Y/Rt     1 non-null      object\n 5   TD-kick  1 non-null      object\n 6   Lng      1 non-null      object\n 7   Ret      1 non-null      object\n 8   Yds      1 non-null      object\n 9   Y/R      1 non-null      object\n 10  TD-punt  1 non-null      object\n 11  Lng      1 non-null      object\ndtypes: object(12)\nmemory usage: 224.0+ bytes\n"
     ]
    }
   ],
   "source": [
    "away_returns.info()"
   ]
  },
  {
   "cell_type": "code",
   "execution_count": 26,
   "metadata": {},
   "outputs": [],
   "source": [
    "away_returns = returns.loc[:split_row-1]"
   ]
  },
  {
   "cell_type": "code",
   "execution_count": 27,
   "metadata": {},
   "outputs": [],
   "source": [
    "away_returns.columns = ['Player', 'Tm', 'Rt', 'Yds', 'Y/Rt', 'TD-kick', 'Lng', 'Ret', 'Yds', 'Y/R', 'TD-punt', 'Lng']"
   ]
  }
 ]
}