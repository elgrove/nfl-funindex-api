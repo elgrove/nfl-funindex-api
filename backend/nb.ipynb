{
 "metadata": {
  "language_info": {
   "codemirror_mode": {
    "name": "ipython",
    "version": 3
   },
   "file_extension": ".py",
   "mimetype": "text/x-python",
   "name": "python",
   "nbconvert_exporter": "python",
   "pygments_lexer": "ipython3",
   "version": "3.9.5"
  },
  "orig_nbformat": 4,
  "kernelspec": {
   "name": "python3",
   "display_name": "Python 3.9.5 64-bit ('nfl-funindex-Q4vAvHch': pipenv)"
  },
  "interpreter": {
   "hash": "1b6d9f7b541a0ebd5e3edc426901e3c331e5fdaf93222c151ca71a4a8be11c87"
  }
 },
 "nbformat": 4,
 "nbformat_minor": 2,
 "cells": [
  {
   "cell_type": "code",
   "execution_count": null,
   "metadata": {},
   "outputs": [],
   "source": [
    "# NEXT - add new stats to game score model"
   ]
  },
  {
   "cell_type": "code",
   "execution_count": 12,
   "metadata": {},
   "outputs": [
    {
     "output_type": "error",
     "ename": "ModuleNotFoundError",
     "evalue": "No module named 'matplotlib'",
     "traceback": [
      "\u001b[0;31m---------------------------------------------------------------------------\u001b[0m",
      "\u001b[0;31mModuleNotFoundError\u001b[0m                       Traceback (most recent call last)",
      "\u001b[0;32m<ipython-input-12-39bcf12a6746>\u001b[0m in \u001b[0;36m<module>\u001b[0;34m\u001b[0m\n\u001b[1;32m      1\u001b[0m \u001b[0;32mimport\u001b[0m \u001b[0msqlite3\u001b[0m\u001b[0;34m\u001b[0m\u001b[0;34m\u001b[0m\u001b[0m\n\u001b[1;32m      2\u001b[0m \u001b[0;32mimport\u001b[0m \u001b[0mpandas\u001b[0m \u001b[0;32mas\u001b[0m \u001b[0mpd\u001b[0m\u001b[0;34m\u001b[0m\u001b[0;34m\u001b[0m\u001b[0m\n\u001b[0;32m----> 3\u001b[0;31m \u001b[0;32mimport\u001b[0m \u001b[0mmatplotlib\u001b[0m\u001b[0;34m.\u001b[0m\u001b[0mpyplot\u001b[0m \u001b[0;32mas\u001b[0m \u001b[0mplt\u001b[0m\u001b[0;34m\u001b[0m\u001b[0;34m\u001b[0m\u001b[0m\n\u001b[0m",
      "\u001b[0;31mModuleNotFoundError\u001b[0m: No module named 'matplotlib'"
     ]
    }
   ],
   "source": [
    "import sqlite3\n",
    "import pandas as pd\n",
    "import matplotlib.pyplot as plt"
   ]
  },
  {
   "cell_type": "code",
   "execution_count": 4,
   "metadata": {},
   "outputs": [],
   "source": [
    "con = sqlite3.Connection('db.db')"
   ]
  },
  {
   "cell_type": "code",
   "execution_count": 5,
   "metadata": {},
   "outputs": [],
   "source": [
    "cursor = con.cursor()"
   ]
  },
  {
   "cell_type": "code",
   "execution_count": 22,
   "metadata": {},
   "outputs": [
    {
     "output_type": "error",
     "ename": "DatabaseError",
     "evalue": "Execution failed on sql 'select match_id, ((pts * 0.04) + \n\n(ptsqf * 0.06) + \n\n(tds * 0.1) + \n\n(tos * 0.08) + \n\n(close * 0.25) + \n\n(closeqf * 0.75) +\n\n(sacks * 0.04) + \n\n(sackyds * 0.005) + \n\n(rtns * 0.3) + \n\n(tds/drives)) as score from summary_view': no such column: ptsqf",
     "traceback": [
      "\u001b[0;31m---------------------------------------------------------------------------\u001b[0m",
      "\u001b[0;31mOperationalError\u001b[0m                          Traceback (most recent call last)",
      "\u001b[0;32m~/.local/share/virtualenvs/nfl-funindex-Q4vAvHch/lib/python3.9/site-packages/pandas/io/sql.py\u001b[0m in \u001b[0;36mexecute\u001b[0;34m(self, *args, **kwargs)\u001b[0m\n\u001b[1;32m   1724\u001b[0m         \u001b[0;32mtry\u001b[0m\u001b[0;34m:\u001b[0m\u001b[0;34m\u001b[0m\u001b[0;34m\u001b[0m\u001b[0m\n\u001b[0;32m-> 1725\u001b[0;31m             \u001b[0mcur\u001b[0m\u001b[0;34m.\u001b[0m\u001b[0mexecute\u001b[0m\u001b[0;34m(\u001b[0m\u001b[0;34m*\u001b[0m\u001b[0margs\u001b[0m\u001b[0;34m,\u001b[0m \u001b[0;34m**\u001b[0m\u001b[0mkwargs\u001b[0m\u001b[0;34m)\u001b[0m\u001b[0;34m\u001b[0m\u001b[0;34m\u001b[0m\u001b[0m\n\u001b[0m\u001b[1;32m   1726\u001b[0m             \u001b[0;32mreturn\u001b[0m \u001b[0mcur\u001b[0m\u001b[0;34m\u001b[0m\u001b[0;34m\u001b[0m\u001b[0m\n",
      "\u001b[0;31mOperationalError\u001b[0m: no such column: ptsqf",
      "\nThe above exception was the direct cause of the following exception:\n",
      "\u001b[0;31mDatabaseError\u001b[0m                             Traceback (most recent call last)",
      "\u001b[0;32m<ipython-input-22-ed16a235fa1f>\u001b[0m in \u001b[0;36m<module>\u001b[0;34m\u001b[0m\n\u001b[0;32m----> 1\u001b[0;31m df = pd.read_sql_query('''select match_id, ((pts * 0.04) + \n\u001b[0m\u001b[1;32m      2\u001b[0m \u001b[0;34m\u001b[0m\u001b[0m\n\u001b[1;32m      3\u001b[0m \u001b[0;34m(\u001b[0m\u001b[0mptsqf\u001b[0m \u001b[0;34m*\u001b[0m \u001b[0;36m0.06\u001b[0m\u001b[0;34m)\u001b[0m \u001b[0;34m+\u001b[0m\u001b[0;34m\u001b[0m\u001b[0;34m\u001b[0m\u001b[0m\n\u001b[1;32m      4\u001b[0m \u001b[0;34m\u001b[0m\u001b[0m\n\u001b[1;32m      5\u001b[0m \u001b[0;34m(\u001b[0m\u001b[0mtds\u001b[0m \u001b[0;34m*\u001b[0m \u001b[0;36m0.1\u001b[0m\u001b[0;34m)\u001b[0m \u001b[0;34m+\u001b[0m\u001b[0;34m\u001b[0m\u001b[0;34m\u001b[0m\u001b[0m\n",
      "\u001b[0;32m~/.local/share/virtualenvs/nfl-funindex-Q4vAvHch/lib/python3.9/site-packages/pandas/io/sql.py\u001b[0m in \u001b[0;36mread_sql_query\u001b[0;34m(sql, con, index_col, coerce_float, params, parse_dates, chunksize)\u001b[0m\n\u001b[1;32m    386\u001b[0m     \"\"\"\n\u001b[1;32m    387\u001b[0m     \u001b[0mpandas_sql\u001b[0m \u001b[0;34m=\u001b[0m \u001b[0mpandasSQL_builder\u001b[0m\u001b[0;34m(\u001b[0m\u001b[0mcon\u001b[0m\u001b[0;34m)\u001b[0m\u001b[0;34m\u001b[0m\u001b[0;34m\u001b[0m\u001b[0m\n\u001b[0;32m--> 388\u001b[0;31m     return pandas_sql.read_query(\n\u001b[0m\u001b[1;32m    389\u001b[0m         \u001b[0msql\u001b[0m\u001b[0;34m,\u001b[0m\u001b[0;34m\u001b[0m\u001b[0;34m\u001b[0m\u001b[0m\n\u001b[1;32m    390\u001b[0m         \u001b[0mindex_col\u001b[0m\u001b[0;34m=\u001b[0m\u001b[0mindex_col\u001b[0m\u001b[0;34m,\u001b[0m\u001b[0;34m\u001b[0m\u001b[0;34m\u001b[0m\u001b[0m\n",
      "\u001b[0;32m~/.local/share/virtualenvs/nfl-funindex-Q4vAvHch/lib/python3.9/site-packages/pandas/io/sql.py\u001b[0m in \u001b[0;36mread_query\u001b[0;34m(self, sql, index_col, coerce_float, params, parse_dates, chunksize)\u001b[0m\n\u001b[1;32m   1769\u001b[0m \u001b[0;34m\u001b[0m\u001b[0m\n\u001b[1;32m   1770\u001b[0m         \u001b[0margs\u001b[0m \u001b[0;34m=\u001b[0m \u001b[0m_convert_params\u001b[0m\u001b[0;34m(\u001b[0m\u001b[0msql\u001b[0m\u001b[0;34m,\u001b[0m \u001b[0mparams\u001b[0m\u001b[0;34m)\u001b[0m\u001b[0;34m\u001b[0m\u001b[0;34m\u001b[0m\u001b[0m\n\u001b[0;32m-> 1771\u001b[0;31m         \u001b[0mcursor\u001b[0m \u001b[0;34m=\u001b[0m \u001b[0mself\u001b[0m\u001b[0;34m.\u001b[0m\u001b[0mexecute\u001b[0m\u001b[0;34m(\u001b[0m\u001b[0;34m*\u001b[0m\u001b[0margs\u001b[0m\u001b[0;34m)\u001b[0m\u001b[0;34m\u001b[0m\u001b[0;34m\u001b[0m\u001b[0m\n\u001b[0m\u001b[1;32m   1772\u001b[0m         \u001b[0mcolumns\u001b[0m \u001b[0;34m=\u001b[0m \u001b[0;34m[\u001b[0m\u001b[0mcol_desc\u001b[0m\u001b[0;34m[\u001b[0m\u001b[0;36m0\u001b[0m\u001b[0;34m]\u001b[0m \u001b[0;32mfor\u001b[0m \u001b[0mcol_desc\u001b[0m \u001b[0;32min\u001b[0m \u001b[0mcursor\u001b[0m\u001b[0;34m.\u001b[0m\u001b[0mdescription\u001b[0m\u001b[0;34m]\u001b[0m\u001b[0;34m\u001b[0m\u001b[0;34m\u001b[0m\u001b[0m\n\u001b[1;32m   1773\u001b[0m \u001b[0;34m\u001b[0m\u001b[0m\n",
      "\u001b[0;32m~/.local/share/virtualenvs/nfl-funindex-Q4vAvHch/lib/python3.9/site-packages/pandas/io/sql.py\u001b[0m in \u001b[0;36mexecute\u001b[0;34m(self, *args, **kwargs)\u001b[0m\n\u001b[1;32m   1735\u001b[0m \u001b[0;34m\u001b[0m\u001b[0m\n\u001b[1;32m   1736\u001b[0m             \u001b[0mex\u001b[0m \u001b[0;34m=\u001b[0m \u001b[0mDatabaseError\u001b[0m\u001b[0;34m(\u001b[0m\u001b[0;34mf\"Execution failed on sql '{args[0]}': {exc}\"\u001b[0m\u001b[0;34m)\u001b[0m\u001b[0;34m\u001b[0m\u001b[0;34m\u001b[0m\u001b[0m\n\u001b[0;32m-> 1737\u001b[0;31m             \u001b[0;32mraise\u001b[0m \u001b[0mex\u001b[0m \u001b[0;32mfrom\u001b[0m \u001b[0mexc\u001b[0m\u001b[0;34m\u001b[0m\u001b[0;34m\u001b[0m\u001b[0m\n\u001b[0m\u001b[1;32m   1738\u001b[0m \u001b[0;34m\u001b[0m\u001b[0m\n\u001b[1;32m   1739\u001b[0m     \u001b[0;34m@\u001b[0m\u001b[0mstaticmethod\u001b[0m\u001b[0;34m\u001b[0m\u001b[0;34m\u001b[0m\u001b[0m\n",
      "\u001b[0;31mDatabaseError\u001b[0m: Execution failed on sql 'select match_id, ((pts * 0.04) + \n\n(ptsqf * 0.06) + \n\n(tds * 0.1) + \n\n(tos * 0.08) + \n\n(close * 0.25) + \n\n(closeqf * 0.75) +\n\n(sacks * 0.04) + \n\n(sackyds * 0.005) + \n\n(rtns * 0.3) + \n\n(tds/drives)) as score from summary_view': no such column: ptsqf"
     ]
    }
   ],
   "source": [
    "df = pd.read_sql_query('''select match_id, ((pts * 0.04) + \n",
    "\n",
    "(ptsqf * 0.06) + \n",
    "\n",
    "(tds * 0.1) + \n",
    "\n",
    "(tos * 0.08) + \n",
    "\n",
    "(close * 0.25) + \n",
    "\n",
    "(closeqf * 0.75) +\n",
    "\n",
    "(sacks * 0.04) + \n",
    "\n",
    "(sackyds * 0.005) + \n",
    "\n",
    "(rtns * 0.3) + \n",
    "\n",
    "(tds/drives)) as score from summary_view''', con=con)"
   ]
  },
  {
   "cell_type": "code",
   "execution_count": 19,
   "metadata": {},
   "outputs": [],
   "source": [
    "df['dtdpc'] = df.tds/df.drives"
   ]
  },
  {
   "cell_type": "code",
   "execution_count": 20,
   "metadata": {},
   "outputs": [
    {
     "output_type": "execute_result",
     "data": {
      "text/plain": [
       "             week       season         pts          yds         tds  \\\n",
       "count  803.000000   803.000000  803.000000   803.000000  803.000000   \n",
       "mean     9.428394  2019.002491   44.793275   706.225405    5.122042   \n",
       "std      5.235196     0.817510   16.464868   122.752484    2.156600   \n",
       "min      1.000000  2018.000000    0.000000   393.000000    0.000000   \n",
       "25%      5.000000  2018.000000   36.000000   616.500000    4.000000   \n",
       "50%      9.000000  2019.000000   45.000000   701.000000    5.000000   \n",
       "75%     14.000000  2020.000000   55.000000   787.000000    7.000000   \n",
       "max     18.000000  2020.000000  105.000000  1091.000000   12.000000   \n",
       "\n",
       "              tos        fdpc       sacks     sackyds        rtns      drives  \\\n",
       "count  803.000000  738.000000  803.000000  803.000000  803.000000  803.000000   \n",
       "mean     2.673724    0.250678    4.792030   32.028643    0.049813   22.178082   \n",
       "std      1.616049    0.433697    2.349794   17.376868    0.228863    3.216140   \n",
       "min      0.000000    0.000000    0.000000    0.000000    0.000000   13.000000   \n",
       "25%      1.500000    0.000000    3.000000   19.000000    0.000000   20.000000   \n",
       "50%      3.000000    0.000000    5.000000   30.000000    0.000000   22.000000   \n",
       "75%      4.000000    0.750000    6.000000   44.000000    0.000000   24.000000   \n",
       "max      8.000000    1.000000   12.000000   98.000000    2.000000   38.000000   \n",
       "\n",
       "       drvtdpc       close     closeqf       dtdpc  \n",
       "count    803.0  803.000000  803.000000  803.000000  \n",
       "mean       0.0    0.764633    0.738481    0.234864  \n",
       "std        0.0    0.424493    0.439736    0.103202  \n",
       "min        0.0    0.000000    0.000000    0.000000  \n",
       "25%        0.0    1.000000    0.000000    0.160000  \n",
       "50%        0.0    1.000000    1.000000    0.227273  \n",
       "75%        0.0    1.000000    1.000000    0.304348  \n",
       "max        0.0    1.000000    1.000000    0.545455  "
      ],
      "text/html": "<div>\n<style scoped>\n    .dataframe tbody tr th:only-of-type {\n        vertical-align: middle;\n    }\n\n    .dataframe tbody tr th {\n        vertical-align: top;\n    }\n\n    .dataframe thead th {\n        text-align: right;\n    }\n</style>\n<table border=\"1\" class=\"dataframe\">\n  <thead>\n    <tr style=\"text-align: right;\">\n      <th></th>\n      <th>week</th>\n      <th>season</th>\n      <th>pts</th>\n      <th>yds</th>\n      <th>tds</th>\n      <th>tos</th>\n      <th>fdpc</th>\n      <th>sacks</th>\n      <th>sackyds</th>\n      <th>rtns</th>\n      <th>drives</th>\n      <th>drvtdpc</th>\n      <th>close</th>\n      <th>closeqf</th>\n      <th>dtdpc</th>\n    </tr>\n  </thead>\n  <tbody>\n    <tr>\n      <th>count</th>\n      <td>803.000000</td>\n      <td>803.000000</td>\n      <td>803.000000</td>\n      <td>803.000000</td>\n      <td>803.000000</td>\n      <td>803.000000</td>\n      <td>738.000000</td>\n      <td>803.000000</td>\n      <td>803.000000</td>\n      <td>803.000000</td>\n      <td>803.000000</td>\n      <td>803.0</td>\n      <td>803.000000</td>\n      <td>803.000000</td>\n      <td>803.000000</td>\n    </tr>\n    <tr>\n      <th>mean</th>\n      <td>9.428394</td>\n      <td>2019.002491</td>\n      <td>44.793275</td>\n      <td>706.225405</td>\n      <td>5.122042</td>\n      <td>2.673724</td>\n      <td>0.250678</td>\n      <td>4.792030</td>\n      <td>32.028643</td>\n      <td>0.049813</td>\n      <td>22.178082</td>\n      <td>0.0</td>\n      <td>0.764633</td>\n      <td>0.738481</td>\n      <td>0.234864</td>\n    </tr>\n    <tr>\n      <th>std</th>\n      <td>5.235196</td>\n      <td>0.817510</td>\n      <td>16.464868</td>\n      <td>122.752484</td>\n      <td>2.156600</td>\n      <td>1.616049</td>\n      <td>0.433697</td>\n      <td>2.349794</td>\n      <td>17.376868</td>\n      <td>0.228863</td>\n      <td>3.216140</td>\n      <td>0.0</td>\n      <td>0.424493</td>\n      <td>0.439736</td>\n      <td>0.103202</td>\n    </tr>\n    <tr>\n      <th>min</th>\n      <td>1.000000</td>\n      <td>2018.000000</td>\n      <td>0.000000</td>\n      <td>393.000000</td>\n      <td>0.000000</td>\n      <td>0.000000</td>\n      <td>0.000000</td>\n      <td>0.000000</td>\n      <td>0.000000</td>\n      <td>0.000000</td>\n      <td>13.000000</td>\n      <td>0.0</td>\n      <td>0.000000</td>\n      <td>0.000000</td>\n      <td>0.000000</td>\n    </tr>\n    <tr>\n      <th>25%</th>\n      <td>5.000000</td>\n      <td>2018.000000</td>\n      <td>36.000000</td>\n      <td>616.500000</td>\n      <td>4.000000</td>\n      <td>1.500000</td>\n      <td>0.000000</td>\n      <td>3.000000</td>\n      <td>19.000000</td>\n      <td>0.000000</td>\n      <td>20.000000</td>\n      <td>0.0</td>\n      <td>1.000000</td>\n      <td>0.000000</td>\n      <td>0.160000</td>\n    </tr>\n    <tr>\n      <th>50%</th>\n      <td>9.000000</td>\n      <td>2019.000000</td>\n      <td>45.000000</td>\n      <td>701.000000</td>\n      <td>5.000000</td>\n      <td>3.000000</td>\n      <td>0.000000</td>\n      <td>5.000000</td>\n      <td>30.000000</td>\n      <td>0.000000</td>\n      <td>22.000000</td>\n      <td>0.0</td>\n      <td>1.000000</td>\n      <td>1.000000</td>\n      <td>0.227273</td>\n    </tr>\n    <tr>\n      <th>75%</th>\n      <td>14.000000</td>\n      <td>2020.000000</td>\n      <td>55.000000</td>\n      <td>787.000000</td>\n      <td>7.000000</td>\n      <td>4.000000</td>\n      <td>0.750000</td>\n      <td>6.000000</td>\n      <td>44.000000</td>\n      <td>0.000000</td>\n      <td>24.000000</td>\n      <td>0.0</td>\n      <td>1.000000</td>\n      <td>1.000000</td>\n      <td>0.304348</td>\n    </tr>\n    <tr>\n      <th>max</th>\n      <td>18.000000</td>\n      <td>2020.000000</td>\n      <td>105.000000</td>\n      <td>1091.000000</td>\n      <td>12.000000</td>\n      <td>8.000000</td>\n      <td>1.000000</td>\n      <td>12.000000</td>\n      <td>98.000000</td>\n      <td>2.000000</td>\n      <td>38.000000</td>\n      <td>0.0</td>\n      <td>1.000000</td>\n      <td>1.000000</td>\n      <td>0.545455</td>\n    </tr>\n  </tbody>\n</table>\n</div>"
     },
     "metadata": {},
     "execution_count": 20
    }
   ],
   "source": [
    "df.describe()"
   ]
  }
 ]
}