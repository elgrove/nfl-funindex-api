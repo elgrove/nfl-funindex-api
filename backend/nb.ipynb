{
 "metadata": {
  "language_info": {
   "codemirror_mode": {
    "name": "ipython",
    "version": 3
   },
   "file_extension": ".py",
   "mimetype": "text/x-python",
   "name": "python",
   "nbconvert_exporter": "python",
   "pygments_lexer": "ipython3",
   "version": "3.9.2"
  },
  "orig_nbformat": 4,
  "kernelspec": {
   "name": "python3",
   "display_name": "Python 3.9.2 64-bit ('venv')"
  },
  "interpreter": {
   "hash": "db433505a1119f38b61e3b05d163b0176e9b613d100bb7f2a8737d86cb79703d"
  }
 },
 "nbformat": 4,
 "nbformat_minor": 2,
 "cells": [
  {
   "cell_type": "code",
   "execution_count": 2,
   "metadata": {},
   "outputs": [],
   "source": [
    "import re\n",
    "import requests\n",
    "import numpy as np\n",
    "import pandas as pd\n",
    "from bs4 import BeautifulSoup\n",
    "import datetime as dt\n",
    "import sqlite3"
   ]
  },
  {
   "cell_type": "code",
   "execution_count": 3,
   "metadata": {},
   "outputs": [],
   "source": [
    "'''scrapes game url returning a dict'''\n",
    "url = 'https://www.pro-football-reference.com/boxscores/202009100kan.htm'\n",
    "res = requests.get(url)\n",
    "# use re to escape html comments\n",
    "comm = re.compile(\"<!--|-->\")\n",
    "soup = BeautifulSoup(comm.sub(\"\", res.text), 'lxml')\n",
    "# get content div, holds all body content\n",
    "divs = soup.findAll('div', id = \"content\")\n",
    "# table for points by quarter\n",
    "points = pd.read_html(res.text)[0]\n",
    "# table for scoring stats\n",
    "stats = pd.read_html(str(divs[0].findAll(\n",
    "    \"div\",id=re.compile(\"^all_team_stats\"))[0].findAll('table')[0]))[0]\n",
    "\n",
    "# get datetime object for the dict\n",
    "date_ = divs[0].findAll(\"div\", class_='scorebox')[0].findAll(\n",
    "    'div',class_='scorebox_meta')[0].findAll('div')[0].text\n",
    "time_ = divs[0].findAll(\"div\", class_='scorebox')[0].findAll(\n",
    "    'div', class_='scorebox_meta')[0].findAll('div')[1].text.replace('Start Time: ', '')\n",
    "datestr = date_ + ' ' + time_\n",
    "dateobj = dt.datetime.strptime(datestr, '%A %b %d, %Y %I:%M%p')\n",
    "\n",
    "# get week number, all of the playoffs is called week 18\n",
    "if soup.findAll('h2')[0].text.endswith('Playoffs') == True:\n",
    "    week_ = '18'\n",
    "else:\n",
    "    week_ = soup.findAll('h2')[0].text.replace('NFL Scores — Week ', '')\n",
    "\n",
    "if dateobj.month >= 7:\n",
    "    season_ = dateobj.year\n",
    "else:\n",
    "    season_ = dateobj.year - 1\n",
    "\n",
    "game_dict = {}"
   ]
  },
  {
   "cell_type": "code",
   "execution_count": 4,
   "metadata": {},
   "outputs": [
    {
     "output_type": "execute_result",
     "data": {
      "text/plain": [
       "                          Unnamed: 0          Unnamed: 1  1   2  3   4  Final\n",
       "0  via Sports Logos.net  About logos      Houston Texans  7   0  0  13     20\n",
       "1  via Sports Logos.net  About logos  Kansas City Chiefs  0  17  7  10     34"
      ],
      "text/html": "<div>\n<style scoped>\n    .dataframe tbody tr th:only-of-type {\n        vertical-align: middle;\n    }\n\n    .dataframe tbody tr th {\n        vertical-align: top;\n    }\n\n    .dataframe thead th {\n        text-align: right;\n    }\n</style>\n<table border=\"1\" class=\"dataframe\">\n  <thead>\n    <tr style=\"text-align: right;\">\n      <th></th>\n      <th>Unnamed: 0</th>\n      <th>Unnamed: 1</th>\n      <th>1</th>\n      <th>2</th>\n      <th>3</th>\n      <th>4</th>\n      <th>Final</th>\n    </tr>\n  </thead>\n  <tbody>\n    <tr>\n      <th>0</th>\n      <td>via Sports Logos.net  About logos</td>\n      <td>Houston Texans</td>\n      <td>7</td>\n      <td>0</td>\n      <td>0</td>\n      <td>13</td>\n      <td>20</td>\n    </tr>\n    <tr>\n      <th>1</th>\n      <td>via Sports Logos.net  About logos</td>\n      <td>Kansas City Chiefs</td>\n      <td>0</td>\n      <td>17</td>\n      <td>7</td>\n      <td>10</td>\n      <td>34</td>\n    </tr>\n  </tbody>\n</table>\n</div>"
     },
     "metadata": {},
     "execution_count": 4
    }
   ],
   "source": [
    "pd.read_html(res.text)[0]"
   ]
  },
  {
   "cell_type": "code",
   "execution_count": 5,
   "metadata": {},
   "outputs": [
    {
     "output_type": "execute_result",
     "data": {
      "text/plain": [
       "'360'"
      ]
     },
     "metadata": {},
     "execution_count": 5
    }
   ],
   "source": [
    "stats.iloc[5,1]"
   ]
  },
  {
   "cell_type": "code",
   "execution_count": 6,
   "metadata": {},
   "outputs": [
    {
     "output_type": "execute_result",
     "data": {
      "text/plain": [
       "            Unnamed: 0            HOU            KAN\n",
       "0          First Downs             21             28\n",
       "1         Rush-Yds-TDs       22-118-2       34-166-1\n",
       "2    Cmp-Att-Yd-TD-INT  20-32-253-1-1  24-32-211-3-0\n",
       "3         Sacked-Yards           4-11            1-8\n",
       "4       Net Pass Yards            242            203\n",
       "5          Total Yards            360            369\n",
       "6         Fumbles-Lost            0-0            0-0\n",
       "7            Turnovers              1              0\n",
       "8      Penalties-Yards           5-37            1-5\n",
       "9     Third Down Conv.           4-10           7-13\n",
       "10   Fourth Down Conv.            1-1            1-1\n",
       "11  Time of Possession          25:13          34:47"
      ],
      "text/html": "<div>\n<style scoped>\n    .dataframe tbody tr th:only-of-type {\n        vertical-align: middle;\n    }\n\n    .dataframe tbody tr th {\n        vertical-align: top;\n    }\n\n    .dataframe thead th {\n        text-align: right;\n    }\n</style>\n<table border=\"1\" class=\"dataframe\">\n  <thead>\n    <tr style=\"text-align: right;\">\n      <th></th>\n      <th>Unnamed: 0</th>\n      <th>HOU</th>\n      <th>KAN</th>\n    </tr>\n  </thead>\n  <tbody>\n    <tr>\n      <th>0</th>\n      <td>First Downs</td>\n      <td>21</td>\n      <td>28</td>\n    </tr>\n    <tr>\n      <th>1</th>\n      <td>Rush-Yds-TDs</td>\n      <td>22-118-2</td>\n      <td>34-166-1</td>\n    </tr>\n    <tr>\n      <th>2</th>\n      <td>Cmp-Att-Yd-TD-INT</td>\n      <td>20-32-253-1-1</td>\n      <td>24-32-211-3-0</td>\n    </tr>\n    <tr>\n      <th>3</th>\n      <td>Sacked-Yards</td>\n      <td>4-11</td>\n      <td>1-8</td>\n    </tr>\n    <tr>\n      <th>4</th>\n      <td>Net Pass Yards</td>\n      <td>242</td>\n      <td>203</td>\n    </tr>\n    <tr>\n      <th>5</th>\n      <td>Total Yards</td>\n      <td>360</td>\n      <td>369</td>\n    </tr>\n    <tr>\n      <th>6</th>\n      <td>Fumbles-Lost</td>\n      <td>0-0</td>\n      <td>0-0</td>\n    </tr>\n    <tr>\n      <th>7</th>\n      <td>Turnovers</td>\n      <td>1</td>\n      <td>0</td>\n    </tr>\n    <tr>\n      <th>8</th>\n      <td>Penalties-Yards</td>\n      <td>5-37</td>\n      <td>1-5</td>\n    </tr>\n    <tr>\n      <th>9</th>\n      <td>Third Down Conv.</td>\n      <td>4-10</td>\n      <td>7-13</td>\n    </tr>\n    <tr>\n      <th>10</th>\n      <td>Fourth Down Conv.</td>\n      <td>1-1</td>\n      <td>1-1</td>\n    </tr>\n    <tr>\n      <th>11</th>\n      <td>Time of Possession</td>\n      <td>25:13</td>\n      <td>34:47</td>\n    </tr>\n  </tbody>\n</table>\n</div>"
     },
     "metadata": {},
     "execution_count": 6
    }
   ],
   "source": [
    "stats"
   ]
  },
  {
   "cell_type": "code",
   "execution_count": 7,
   "metadata": {},
   "outputs": [
    {
     "output_type": "execute_result",
     "data": {
      "text/plain": [
       "'1'"
      ]
     },
     "metadata": {},
     "execution_count": 7
    }
   ],
   "source": [
    "stats.iloc[3, 2].split('-')[0]"
   ]
  },
  {
   "cell_type": "code",
   "execution_count": 19,
   "metadata": {},
   "outputs": [],
   "source": [
    "h_drives = pd.read_html(str(divs[0].findAll(\n",
    "    \"table\",id='home_drives')))[0]"
   ]
  },
  {
   "cell_type": "code",
   "execution_count": 22,
   "metadata": {},
   "outputs": [
    {
     "output_type": "execute_result",
     "data": {
      "text/plain": [
       "9"
      ]
     },
     "metadata": {},
     "execution_count": 22
    }
   ],
   "source": [
    "len(pd.read_html(str(divs[0].findAll(\n",
    "    \"table\",id='home_drives')))[0].index)"
   ]
  },
  {
   "cell_type": "code",
   "execution_count": 20,
   "metadata": {},
   "outputs": [
    {
     "output_type": "execute_result",
     "data": {
      "text/plain": [
       "9"
      ]
     },
     "metadata": {},
     "execution_count": 20
    }
   ],
   "source": [
    "len(h_drives.index)"
   ]
  },
  {
   "cell_type": "code",
   "execution_count": 32,
   "metadata": {},
   "outputs": [
    {
     "output_type": "execute_result",
     "data": {
      "text/plain": [
       "[<table class=\"sortable stats_table\" data-cols-to-freeze=\",1\" id=\"home_drives\">\n",
       " <caption>Chiefs Drives Table</caption>\n",
       " <colgroup><col/><col/><col/><col/><col/><col/><col/><col/></colgroup>\n",
       " <thead>\n",
       " <tr>\n",
       " <th aria-label=\"#\" class=\"poptip center\" data-stat=\"drive_num\" scope=\"col\">#</th>\n",
       " <th aria-label=\"Quarter\" class=\"poptip center\" data-stat=\"quarter\" scope=\"col\">Quarter</th>\n",
       " <th aria-label=\"Time\" class=\"poptip center\" data-stat=\"time_start\" scope=\"col\">Time</th>\n",
       " <th aria-label=\"LOS\" class=\"poptip center\" data-stat=\"start_at\" scope=\"col\">LOS</th>\n",
       " <th aria-label=\"Number of plays in drive.P - Pass, R - Rush, Y - Penalty\" class=\"poptip center\" data-stat=\"play_count_tip\" data-tip=\"Number of plays in drive.&lt;br /&gt;P - Pass, R - Rush, Y - Penalty\" scope=\"col\">Plays</th>\n",
       " <th aria-label=\"Length\" class=\"poptip center\" data-stat=\"time_total\" scope=\"col\">Length</th>\n",
       " <th aria-label=\"Net Yards (Just Plays)\" class=\"poptip center\" data-stat=\"net_yds\" scope=\"col\">Net_yds</th>\n",
       " <th aria-label=\"Result\" class=\"poptip center\" data-stat=\"end_event\" scope=\"col\">Result</th>\n",
       " </tr>\n",
       " </thead>\n",
       " <tbody><tr><th class=\"right\" data-stat=\"drive_num\" scope=\"row\">1</th><td class=\"center\" data-stat=\"quarter\">1</td><td class=\"right\" csk=\"847\" data-stat=\"time_start\">14:07</td><td class=\"right\" data-stat=\"start_at\">KAN 35</td><td class=\"right\" data-stat=\"play_count_tip\"><span class=\"tooltip\" tip=\"6 Pass, 2 Rush, 0 Penalty\">8</span></td><td class=\"right\" csk=\"241\" data-stat=\"time_total\">4:01</td><td class=\"right\" data-stat=\"net_yds\">21</td><td class=\"center\" data-stat=\"end_event\">Punt</td></tr>\n",
       " <tr class=\"bold\"><th class=\"right\" data-stat=\"drive_num\" scope=\"row\">2</th><td class=\"center\" data-stat=\"quarter\">1</td><td class=\"right\" csk=\"294\" data-stat=\"time_start\">4:54</td><td class=\"right\" data-stat=\"start_at\">KAN 25</td><td class=\"right\" data-stat=\"play_count_tip\"><span class=\"tooltip\" tip=\"7 Pass, 4 Rush, 0 Penalty\">11</span></td><td class=\"right\" csk=\"341\" data-stat=\"time_total\">5:41</td><td class=\"right\" data-stat=\"net_yds\">75</td><td class=\"center\" data-stat=\"end_event\">Touchdown</td></tr>\n",
       " <tr class=\"bold\"><th class=\"right\" data-stat=\"drive_num\" scope=\"row\">3</th><td class=\"center\" data-stat=\"quarter\">2</td><td class=\"right\" csk=\"690\" data-stat=\"time_start\">11:30</td><td class=\"right\" data-stat=\"start_at\">KAN 9</td><td class=\"right\" data-stat=\"play_count_tip\"><span class=\"tooltip\" tip=\"6 Pass, 10 Rush, 1 Penalty\">16</span></td><td class=\"right\" csk=\"544\" data-stat=\"time_total\">9:04</td><td class=\"right\" data-stat=\"net_yds\">91</td><td class=\"center\" data-stat=\"end_event\">Touchdown</td></tr>\n",
       " <tr class=\"bold\"><th class=\"right\" data-stat=\"drive_num\" scope=\"row\">4</th><td class=\"center\" data-stat=\"quarter\">2</td><td class=\"right\" csk=\"25\" data-stat=\"time_start\">0:25</td><td class=\"right\" data-stat=\"start_at\">KAN 41</td><td class=\"right\" data-stat=\"play_count_tip\"><span class=\"tooltip\" tip=\"3 Pass, 0 Rush, 1 Penalty\">4</span></td><td class=\"right\" csk=\"25\" data-stat=\"time_total\">0:25</td><td class=\"right\" data-stat=\"net_yds\">48</td><td class=\"center\" data-stat=\"end_event\">Field Goal</td></tr>\n",
       " <tr class=\"bold\"><th class=\"right\" data-stat=\"drive_num\" scope=\"row\">5</th><td class=\"center\" data-stat=\"quarter\">3</td><td class=\"right\" csk=\"900\" data-stat=\"time_start\">15:00</td><td class=\"right\" data-stat=\"start_at\">KAN 25</td><td class=\"right\" data-stat=\"play_count_tip\"><span class=\"tooltip\" tip=\"4 Pass, 3 Rush, 1 Penalty\">7</span></td><td class=\"right\" csk=\"247\" data-stat=\"time_total\">4:07</td><td class=\"right\" data-stat=\"net_yds\">75</td><td class=\"center\" data-stat=\"end_event\">Touchdown</td></tr>\n",
       " <tr><th class=\"right\" data-stat=\"drive_num\" scope=\"row\">6</th><td class=\"center\" data-stat=\"quarter\">3</td><td class=\"right\" csk=\"357\" data-stat=\"time_start\">5:57</td><td class=\"right\" data-stat=\"start_at\">KAN 10</td><td class=\"right\" data-stat=\"play_count_tip\"><span class=\"tooltip\" tip=\"4 Pass, 4 Rush, 0 Penalty\">8</span></td><td class=\"right\" csk=\"285\" data-stat=\"time_total\">4:45</td><td class=\"right\" data-stat=\"net_yds\">47</td><td class=\"center\" data-stat=\"end_event\">Punt</td></tr>\n",
       " <tr class=\"bold\"><th class=\"right\" data-stat=\"drive_num\" scope=\"row\">7</th><td class=\"center\" data-stat=\"quarter\">4</td><td class=\"right\" csk=\"855\" data-stat=\"time_start\">14:15</td><td class=\"right\" data-stat=\"start_at\">HTX 17</td><td class=\"right\" data-stat=\"play_count_tip\"><span class=\"tooltip\" tip=\"2 Pass, 4 Rush, 1 Penalty\">6</span></td><td class=\"right\" csk=\"170\" data-stat=\"time_total\">2:50</td><td class=\"right\" data-stat=\"net_yds\">17</td><td class=\"center\" data-stat=\"end_event\">Touchdown</td></tr>\n",
       " <tr><th class=\"right\" data-stat=\"drive_num\" scope=\"row\">8</th><td class=\"center\" data-stat=\"quarter\">4</td><td class=\"right\" csk=\"435\" data-stat=\"time_start\">7:15</td><td class=\"right\" data-stat=\"start_at\">KAN 27</td><td class=\"right\" data-stat=\"play_count_tip\"><span class=\"tooltip\" tip=\"1 Pass, 2 Rush, 0 Penalty\">3</span></td><td class=\"right\" csk=\"106\" data-stat=\"time_total\">1:46</td><td class=\"right\" data-stat=\"net_yds\">3</td><td class=\"center\" data-stat=\"end_event\">Punt</td></tr>\n",
       " <tr class=\"bold\"><th class=\"right\" data-stat=\"drive_num\" scope=\"row\">9</th><td class=\"center\" data-stat=\"quarter\">4</td><td class=\"right\" csk=\"158\" data-stat=\"time_start\">2:38</td><td class=\"right\" data-stat=\"start_at\">HTX 20</td><td class=\"right\" data-stat=\"play_count_tip\"><span class=\"tooltip\" tip=\"0 Pass, 5 Rush, 0 Penalty\">6</span></td><td class=\"right\" csk=\"128\" data-stat=\"time_total\">2:08</td><td class=\"right\" data-stat=\"net_yds\">19</td><td class=\"center\" data-stat=\"end_event\">Field Goal</td></tr>\n",
       " </tbody></table>]"
      ]
     },
     "metadata": {},
     "execution_count": 32
    }
   ],
   "source": [
    "divs[0].findAll(\n",
    "    \"table\",id='home_drives')"
   ]
  },
  {
   "cell_type": "code",
   "execution_count": null,
   "metadata": {},
   "outputs": [],
   "source": []
  },
  {
   "cell_type": "code",
   "execution_count": null,
   "metadata": {},
   "outputs": [],
   "source": []
  }
 ]
}