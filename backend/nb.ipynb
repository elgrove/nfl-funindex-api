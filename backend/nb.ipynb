{
 "metadata": {
  "language_info": {
   "codemirror_mode": {
    "name": "ipython",
    "version": 3
   },
   "file_extension": ".py",
   "mimetype": "text/x-python",
   "name": "python",
   "nbconvert_exporter": "python",
   "pygments_lexer": "ipython3",
   "version": "3.9.5"
  },
  "orig_nbformat": 4,
  "kernelspec": {
   "name": "python3",
   "display_name": "Python 3.9.5 64-bit ('nfl-funindex-Q4vAvHch': pipenv)"
  },
  "interpreter": {
   "hash": "1b6d9f7b541a0ebd5e3edc426901e3c331e5fdaf93222c151ca71a4a8be11c87"
  }
 },
 "nbformat": 4,
 "nbformat_minor": 2,
 "cells": [
  {
   "cell_type": "code",
   "execution_count": 1,
   "metadata": {},
   "outputs": [],
   "source": [
    "# NEXT - add new stats to game score model"
   ]
  },
  {
   "cell_type": "code",
   "execution_count": 2,
   "metadata": {},
   "outputs": [],
   "source": [
    "import sqlite3\n",
    "import pandas as pd\n",
    "import matplotlib.pyplot as plt"
   ]
  },
  {
   "cell_type": "code",
   "execution_count": 3,
   "metadata": {},
   "outputs": [],
   "source": [
    "con = sqlite3.Connection('db.db')"
   ]
  },
  {
   "cell_type": "code",
   "execution_count": 4,
   "metadata": {},
   "outputs": [],
   "source": [
    "cursor = con.cursor()"
   ]
  },
  {
   "cell_type": "code",
   "execution_count": 37,
   "metadata": {},
   "outputs": [],
   "source": [
    "df = pd.read_sql_query('''select *, \n",
    "(\n",
    "(pts * 0.04) + \n",
    "case when closeqf = 1 then ptsqf * 0.04 else ptsqf * 0.02 end + \n",
    "yds*0.0008 + \n",
    "(tds * 0.15) + \n",
    "(tos * 0.08) + \n",
    "(close * 0.1) + \n",
    "(closeqf * 0.2) +\n",
    "(sacks * 0.015) + \n",
    "(sackyds * 0.011) + \n",
    "(rtns * 0.3) + \n",
    "(ot * 0.15)\n",
    ") as score from summary_view;''', con=con)"
   ]
  },
  {
   "cell_type": "code",
   "execution_count": 33,
   "metadata": {},
   "outputs": [
    {
     "output_type": "execute_result",
     "data": {
      "text/plain": [
       "             week       season         pts       ptsqf          yds  \\\n",
       "count  803.000000   803.000000  803.000000  803.000000   803.000000   \n",
       "mean     9.428394  2019.002491   47.254047   13.287671   706.225405   \n",
       "std      5.235196     0.817510   14.233630    7.764340   122.752484   \n",
       "min      1.000000  2018.000000    6.000000    0.000000   393.000000   \n",
       "25%      5.000000  2018.000000   38.000000    7.000000   616.500000   \n",
       "50%      9.000000  2019.000000   47.000000   13.000000   701.000000   \n",
       "75%     14.000000  2020.000000   57.000000   17.000000   787.000000   \n",
       "max     18.000000  2020.000000  105.000000   44.000000  1091.000000   \n",
       "\n",
       "              tds         tos        fdpc       sacks     sackyds        rtns  \\\n",
       "count  803.000000  803.000000  738.000000  803.000000  803.000000  803.000000   \n",
       "mean     5.122042    2.673724    0.250678    4.792030   32.028643    0.049813   \n",
       "std      2.156600    1.616049    0.433697    2.349794   17.376868    0.228863   \n",
       "min      0.000000    0.000000    0.000000    0.000000    0.000000    0.000000   \n",
       "25%      4.000000    1.500000    0.000000    3.000000   19.000000    0.000000   \n",
       "50%      5.000000    3.000000    0.000000    5.000000   30.000000    0.000000   \n",
       "75%      7.000000    4.000000    0.750000    6.000000   44.000000    0.000000   \n",
       "max     12.000000    8.000000    1.000000   12.000000   98.000000    2.000000   \n",
       "\n",
       "           drives  drvtdpc       close     closeqf          ot       score  \n",
       "count  803.000000    803.0  803.000000  803.000000  803.000000  803.000000  \n",
       "mean    22.178082      0.0    0.764633    0.738481    0.047323    4.570160  \n",
       "std      3.216140      0.0    0.424493    0.439736    0.212460    1.126895  \n",
       "min     13.000000      0.0    0.000000    0.000000    0.000000    1.736600  \n",
       "25%     20.000000      0.0    1.000000    0.000000    0.000000    3.743600  \n",
       "50%     22.000000      0.0    1.000000    1.000000    0.000000    4.500600  \n",
       "75%     24.000000      0.0    1.000000    1.000000    0.000000    5.314000  \n",
       "max     38.000000      0.0    1.000000    1.000000    1.000000    9.734800  "
      ],
      "text/html": "<div>\n<style scoped>\n    .dataframe tbody tr th:only-of-type {\n        vertical-align: middle;\n    }\n\n    .dataframe tbody tr th {\n        vertical-align: top;\n    }\n\n    .dataframe thead th {\n        text-align: right;\n    }\n</style>\n<table border=\"1\" class=\"dataframe\">\n  <thead>\n    <tr style=\"text-align: right;\">\n      <th></th>\n      <th>week</th>\n      <th>season</th>\n      <th>pts</th>\n      <th>ptsqf</th>\n      <th>yds</th>\n      <th>tds</th>\n      <th>tos</th>\n      <th>fdpc</th>\n      <th>sacks</th>\n      <th>sackyds</th>\n      <th>rtns</th>\n      <th>drives</th>\n      <th>drvtdpc</th>\n      <th>close</th>\n      <th>closeqf</th>\n      <th>ot</th>\n      <th>score</th>\n    </tr>\n  </thead>\n  <tbody>\n    <tr>\n      <th>count</th>\n      <td>803.000000</td>\n      <td>803.000000</td>\n      <td>803.000000</td>\n      <td>803.000000</td>\n      <td>803.000000</td>\n      <td>803.000000</td>\n      <td>803.000000</td>\n      <td>738.000000</td>\n      <td>803.000000</td>\n      <td>803.000000</td>\n      <td>803.000000</td>\n      <td>803.000000</td>\n      <td>803.0</td>\n      <td>803.000000</td>\n      <td>803.000000</td>\n      <td>803.000000</td>\n      <td>803.000000</td>\n    </tr>\n    <tr>\n      <th>mean</th>\n      <td>9.428394</td>\n      <td>2019.002491</td>\n      <td>47.254047</td>\n      <td>13.287671</td>\n      <td>706.225405</td>\n      <td>5.122042</td>\n      <td>2.673724</td>\n      <td>0.250678</td>\n      <td>4.792030</td>\n      <td>32.028643</td>\n      <td>0.049813</td>\n      <td>22.178082</td>\n      <td>0.0</td>\n      <td>0.764633</td>\n      <td>0.738481</td>\n      <td>0.047323</td>\n      <td>4.570160</td>\n    </tr>\n    <tr>\n      <th>std</th>\n      <td>5.235196</td>\n      <td>0.817510</td>\n      <td>14.233630</td>\n      <td>7.764340</td>\n      <td>122.752484</td>\n      <td>2.156600</td>\n      <td>1.616049</td>\n      <td>0.433697</td>\n      <td>2.349794</td>\n      <td>17.376868</td>\n      <td>0.228863</td>\n      <td>3.216140</td>\n      <td>0.0</td>\n      <td>0.424493</td>\n      <td>0.439736</td>\n      <td>0.212460</td>\n      <td>1.126895</td>\n    </tr>\n    <tr>\n      <th>min</th>\n      <td>1.000000</td>\n      <td>2018.000000</td>\n      <td>6.000000</td>\n      <td>0.000000</td>\n      <td>393.000000</td>\n      <td>0.000000</td>\n      <td>0.000000</td>\n      <td>0.000000</td>\n      <td>0.000000</td>\n      <td>0.000000</td>\n      <td>0.000000</td>\n      <td>13.000000</td>\n      <td>0.0</td>\n      <td>0.000000</td>\n      <td>0.000000</td>\n      <td>0.000000</td>\n      <td>1.736600</td>\n    </tr>\n    <tr>\n      <th>25%</th>\n      <td>5.000000</td>\n      <td>2018.000000</td>\n      <td>38.000000</td>\n      <td>7.000000</td>\n      <td>616.500000</td>\n      <td>4.000000</td>\n      <td>1.500000</td>\n      <td>0.000000</td>\n      <td>3.000000</td>\n      <td>19.000000</td>\n      <td>0.000000</td>\n      <td>20.000000</td>\n      <td>0.0</td>\n      <td>1.000000</td>\n      <td>0.000000</td>\n      <td>0.000000</td>\n      <td>3.743600</td>\n    </tr>\n    <tr>\n      <th>50%</th>\n      <td>9.000000</td>\n      <td>2019.000000</td>\n      <td>47.000000</td>\n      <td>13.000000</td>\n      <td>701.000000</td>\n      <td>5.000000</td>\n      <td>3.000000</td>\n      <td>0.000000</td>\n      <td>5.000000</td>\n      <td>30.000000</td>\n      <td>0.000000</td>\n      <td>22.000000</td>\n      <td>0.0</td>\n      <td>1.000000</td>\n      <td>1.000000</td>\n      <td>0.000000</td>\n      <td>4.500600</td>\n    </tr>\n    <tr>\n      <th>75%</th>\n      <td>14.000000</td>\n      <td>2020.000000</td>\n      <td>57.000000</td>\n      <td>17.000000</td>\n      <td>787.000000</td>\n      <td>7.000000</td>\n      <td>4.000000</td>\n      <td>0.750000</td>\n      <td>6.000000</td>\n      <td>44.000000</td>\n      <td>0.000000</td>\n      <td>24.000000</td>\n      <td>0.0</td>\n      <td>1.000000</td>\n      <td>1.000000</td>\n      <td>0.000000</td>\n      <td>5.314000</td>\n    </tr>\n    <tr>\n      <th>max</th>\n      <td>18.000000</td>\n      <td>2020.000000</td>\n      <td>105.000000</td>\n      <td>44.000000</td>\n      <td>1091.000000</td>\n      <td>12.000000</td>\n      <td>8.000000</td>\n      <td>1.000000</td>\n      <td>12.000000</td>\n      <td>98.000000</td>\n      <td>2.000000</td>\n      <td>38.000000</td>\n      <td>0.0</td>\n      <td>1.000000</td>\n      <td>1.000000</td>\n      <td>1.000000</td>\n      <td>9.734800</td>\n    </tr>\n  </tbody>\n</table>\n</div>"
     },
     "metadata": {},
     "execution_count": 33
    }
   ],
   "source": [
    "df.describe()"
   ]
  },
  {
   "cell_type": "code",
   "execution_count": 34,
   "metadata": {},
   "outputs": [],
   "source": [
    "df = df.drop(['date', 'time'], axis=1).sort_values('score', ascending=False)  "
   ]
  },
  {
   "cell_type": "code",
   "execution_count": 35,
   "metadata": {},
   "outputs": [
    {
     "output_type": "execute_result",
     "data": {
      "text/plain": [
       "         match_id  week  season            teama_name  \\\n",
       "586  202010040dal     4    2020      Cleveland Browns   \n",
       "589  202010040tam     4    2020  Los Angeles Chargers   \n",
       "582  202010010nyj     4    2020        Denver Broncos   \n",
       "587  202010040det     4    2020    New Orleans Saints   \n",
       "591  202010040mia     4    2020      Seattle Seahawks   \n",
       "594  202010040sfo     4    2020   Philadelphia Eagles   \n",
       "593  202010040rai     4    2020         Buffalo Bills   \n",
       "590  202010040cin     4    2020  Jacksonville Jaguars   \n",
       "596  202010050gnb     4    2020       Atlanta Falcons   \n",
       "583  202010040car     4    2020     Arizona Cardinals   \n",
       "585  202010040htx     4    2020     Minnesota Vikings   \n",
       "584  202010040was     4    2020      Baltimore Ravens   \n",
       "595  202010050kan     4    2020  New England Patriots   \n",
       "592  202010040ram     4    2020       New York Giants   \n",
       "588  202010040chi     4    2020    Indianapolis Colts   \n",
       "\n",
       "                   teamh_name  pts  ptsqf   yds  tds  tos  fdpc  sacks  \\\n",
       "586            Dallas Cowboys   87     32  1074   11    3   0.0      5   \n",
       "589      Tampa Bay Buccaneers   69     10   808    8    3   1.0      2   \n",
       "582             New York Jets   65     25   680    5    3   0.0      6   \n",
       "587             Detroit Lions   64      8   673    9    2   1.0      5   \n",
       "591            Miami Dolphins   54     25   856    5    3   0.0      3   \n",
       "594       San Francisco 49ers   45     20   684    5    4   0.0      8   \n",
       "593         Las Vegas Raiders   53     20   720    6    2   0.0      3   \n",
       "590        Cincinnati Bengals   58     18   934    5    2   1.0      4   \n",
       "596         Green Bay Packers   46     10   730    6    0   0.0      5   \n",
       "583         Carolina Panthers   52     10   706    7    2   1.0      1   \n",
       "585            Houston Texans   54     14   796    6    1   0.0      6   \n",
       "584  Washington Football Team   48     10   693    6    3   0.0      4   \n",
       "595        Kansas City Chiefs   36     20   680    3    5   0.0      3   \n",
       "592          Los Angeles Rams   26     10   535    2    2   0.0      7   \n",
       "588             Chicago Bears   30     11   558    2    1   0.0      2   \n",
       "\n",
       "     sackyds  rtns  drives  drvtdpc  close  closeqf  ot   score  \n",
       "586       22     0      25        0      0        0   0  7.1862  \n",
       "589       12     0      23        0      1        1   0  5.7084  \n",
       "582       54     0      24        0      0        0   0  5.3180  \n",
       "587       33     0      18        0      1        0   0  5.3064  \n",
       "591       20     0      19        0      0        1   0  5.2998  \n",
       "594       56     0      22        0      1        1   0  5.2532  \n",
       "593       28     0      19        0      1        1   0  5.2090  \n",
       "590       11     0      21        0      1        1   0  5.1782  \n",
       "596       48     0      18        0      1        1   0  4.6270  \n",
       "583        0     0      19        0      1        1   0  4.5698  \n",
       "585       22     0      22        0      0        0   0  4.3888  \n",
       "584       42     0      22        0      0        0   0  4.3364  \n",
       "595       25     0      21        0      1        1   0  4.2540  \n",
       "592       49     0      20        0      1        1   0  3.2720  \n",
       "588       12     0      22        0      0        0   0  2.4084  "
      ],
      "text/html": "<div>\n<style scoped>\n    .dataframe tbody tr th:only-of-type {\n        vertical-align: middle;\n    }\n\n    .dataframe tbody tr th {\n        vertical-align: top;\n    }\n\n    .dataframe thead th {\n        text-align: right;\n    }\n</style>\n<table border=\"1\" class=\"dataframe\">\n  <thead>\n    <tr style=\"text-align: right;\">\n      <th></th>\n      <th>match_id</th>\n      <th>week</th>\n      <th>season</th>\n      <th>teama_name</th>\n      <th>teamh_name</th>\n      <th>pts</th>\n      <th>ptsqf</th>\n      <th>yds</th>\n      <th>tds</th>\n      <th>tos</th>\n      <th>fdpc</th>\n      <th>sacks</th>\n      <th>sackyds</th>\n      <th>rtns</th>\n      <th>drives</th>\n      <th>drvtdpc</th>\n      <th>close</th>\n      <th>closeqf</th>\n      <th>ot</th>\n      <th>score</th>\n    </tr>\n  </thead>\n  <tbody>\n    <tr>\n      <th>586</th>\n      <td>202010040dal</td>\n      <td>4</td>\n      <td>2020</td>\n      <td>Cleveland Browns</td>\n      <td>Dallas Cowboys</td>\n      <td>87</td>\n      <td>32</td>\n      <td>1074</td>\n      <td>11</td>\n      <td>3</td>\n      <td>0.0</td>\n      <td>5</td>\n      <td>22</td>\n      <td>0</td>\n      <td>25</td>\n      <td>0</td>\n      <td>0</td>\n      <td>0</td>\n      <td>0</td>\n      <td>7.1862</td>\n    </tr>\n    <tr>\n      <th>589</th>\n      <td>202010040tam</td>\n      <td>4</td>\n      <td>2020</td>\n      <td>Los Angeles Chargers</td>\n      <td>Tampa Bay Buccaneers</td>\n      <td>69</td>\n      <td>10</td>\n      <td>808</td>\n      <td>8</td>\n      <td>3</td>\n      <td>1.0</td>\n      <td>2</td>\n      <td>12</td>\n      <td>0</td>\n      <td>23</td>\n      <td>0</td>\n      <td>1</td>\n      <td>1</td>\n      <td>0</td>\n      <td>5.7084</td>\n    </tr>\n    <tr>\n      <th>582</th>\n      <td>202010010nyj</td>\n      <td>4</td>\n      <td>2020</td>\n      <td>Denver Broncos</td>\n      <td>New York Jets</td>\n      <td>65</td>\n      <td>25</td>\n      <td>680</td>\n      <td>5</td>\n      <td>3</td>\n      <td>0.0</td>\n      <td>6</td>\n      <td>54</td>\n      <td>0</td>\n      <td>24</td>\n      <td>0</td>\n      <td>0</td>\n      <td>0</td>\n      <td>0</td>\n      <td>5.3180</td>\n    </tr>\n    <tr>\n      <th>587</th>\n      <td>202010040det</td>\n      <td>4</td>\n      <td>2020</td>\n      <td>New Orleans Saints</td>\n      <td>Detroit Lions</td>\n      <td>64</td>\n      <td>8</td>\n      <td>673</td>\n      <td>9</td>\n      <td>2</td>\n      <td>1.0</td>\n      <td>5</td>\n      <td>33</td>\n      <td>0</td>\n      <td>18</td>\n      <td>0</td>\n      <td>1</td>\n      <td>0</td>\n      <td>0</td>\n      <td>5.3064</td>\n    </tr>\n    <tr>\n      <th>591</th>\n      <td>202010040mia</td>\n      <td>4</td>\n      <td>2020</td>\n      <td>Seattle Seahawks</td>\n      <td>Miami Dolphins</td>\n      <td>54</td>\n      <td>25</td>\n      <td>856</td>\n      <td>5</td>\n      <td>3</td>\n      <td>0.0</td>\n      <td>3</td>\n      <td>20</td>\n      <td>0</td>\n      <td>19</td>\n      <td>0</td>\n      <td>0</td>\n      <td>1</td>\n      <td>0</td>\n      <td>5.2998</td>\n    </tr>\n    <tr>\n      <th>594</th>\n      <td>202010040sfo</td>\n      <td>4</td>\n      <td>2020</td>\n      <td>Philadelphia Eagles</td>\n      <td>San Francisco 49ers</td>\n      <td>45</td>\n      <td>20</td>\n      <td>684</td>\n      <td>5</td>\n      <td>4</td>\n      <td>0.0</td>\n      <td>8</td>\n      <td>56</td>\n      <td>0</td>\n      <td>22</td>\n      <td>0</td>\n      <td>1</td>\n      <td>1</td>\n      <td>0</td>\n      <td>5.2532</td>\n    </tr>\n    <tr>\n      <th>593</th>\n      <td>202010040rai</td>\n      <td>4</td>\n      <td>2020</td>\n      <td>Buffalo Bills</td>\n      <td>Las Vegas Raiders</td>\n      <td>53</td>\n      <td>20</td>\n      <td>720</td>\n      <td>6</td>\n      <td>2</td>\n      <td>0.0</td>\n      <td>3</td>\n      <td>28</td>\n      <td>0</td>\n      <td>19</td>\n      <td>0</td>\n      <td>1</td>\n      <td>1</td>\n      <td>0</td>\n      <td>5.2090</td>\n    </tr>\n    <tr>\n      <th>590</th>\n      <td>202010040cin</td>\n      <td>4</td>\n      <td>2020</td>\n      <td>Jacksonville Jaguars</td>\n      <td>Cincinnati Bengals</td>\n      <td>58</td>\n      <td>18</td>\n      <td>934</td>\n      <td>5</td>\n      <td>2</td>\n      <td>1.0</td>\n      <td>4</td>\n      <td>11</td>\n      <td>0</td>\n      <td>21</td>\n      <td>0</td>\n      <td>1</td>\n      <td>1</td>\n      <td>0</td>\n      <td>5.1782</td>\n    </tr>\n    <tr>\n      <th>596</th>\n      <td>202010050gnb</td>\n      <td>4</td>\n      <td>2020</td>\n      <td>Atlanta Falcons</td>\n      <td>Green Bay Packers</td>\n      <td>46</td>\n      <td>10</td>\n      <td>730</td>\n      <td>6</td>\n      <td>0</td>\n      <td>0.0</td>\n      <td>5</td>\n      <td>48</td>\n      <td>0</td>\n      <td>18</td>\n      <td>0</td>\n      <td>1</td>\n      <td>1</td>\n      <td>0</td>\n      <td>4.6270</td>\n    </tr>\n    <tr>\n      <th>583</th>\n      <td>202010040car</td>\n      <td>4</td>\n      <td>2020</td>\n      <td>Arizona Cardinals</td>\n      <td>Carolina Panthers</td>\n      <td>52</td>\n      <td>10</td>\n      <td>706</td>\n      <td>7</td>\n      <td>2</td>\n      <td>1.0</td>\n      <td>1</td>\n      <td>0</td>\n      <td>0</td>\n      <td>19</td>\n      <td>0</td>\n      <td>1</td>\n      <td>1</td>\n      <td>0</td>\n      <td>4.5698</td>\n    </tr>\n    <tr>\n      <th>585</th>\n      <td>202010040htx</td>\n      <td>4</td>\n      <td>2020</td>\n      <td>Minnesota Vikings</td>\n      <td>Houston Texans</td>\n      <td>54</td>\n      <td>14</td>\n      <td>796</td>\n      <td>6</td>\n      <td>1</td>\n      <td>0.0</td>\n      <td>6</td>\n      <td>22</td>\n      <td>0</td>\n      <td>22</td>\n      <td>0</td>\n      <td>0</td>\n      <td>0</td>\n      <td>0</td>\n      <td>4.3888</td>\n    </tr>\n    <tr>\n      <th>584</th>\n      <td>202010040was</td>\n      <td>4</td>\n      <td>2020</td>\n      <td>Baltimore Ravens</td>\n      <td>Washington Football Team</td>\n      <td>48</td>\n      <td>10</td>\n      <td>693</td>\n      <td>6</td>\n      <td>3</td>\n      <td>0.0</td>\n      <td>4</td>\n      <td>42</td>\n      <td>0</td>\n      <td>22</td>\n      <td>0</td>\n      <td>0</td>\n      <td>0</td>\n      <td>0</td>\n      <td>4.3364</td>\n    </tr>\n    <tr>\n      <th>595</th>\n      <td>202010050kan</td>\n      <td>4</td>\n      <td>2020</td>\n      <td>New England Patriots</td>\n      <td>Kansas City Chiefs</td>\n      <td>36</td>\n      <td>20</td>\n      <td>680</td>\n      <td>3</td>\n      <td>5</td>\n      <td>0.0</td>\n      <td>3</td>\n      <td>25</td>\n      <td>0</td>\n      <td>21</td>\n      <td>0</td>\n      <td>1</td>\n      <td>1</td>\n      <td>0</td>\n      <td>4.2540</td>\n    </tr>\n    <tr>\n      <th>592</th>\n      <td>202010040ram</td>\n      <td>4</td>\n      <td>2020</td>\n      <td>New York Giants</td>\n      <td>Los Angeles Rams</td>\n      <td>26</td>\n      <td>10</td>\n      <td>535</td>\n      <td>2</td>\n      <td>2</td>\n      <td>0.0</td>\n      <td>7</td>\n      <td>49</td>\n      <td>0</td>\n      <td>20</td>\n      <td>0</td>\n      <td>1</td>\n      <td>1</td>\n      <td>0</td>\n      <td>3.2720</td>\n    </tr>\n    <tr>\n      <th>588</th>\n      <td>202010040chi</td>\n      <td>4</td>\n      <td>2020</td>\n      <td>Indianapolis Colts</td>\n      <td>Chicago Bears</td>\n      <td>30</td>\n      <td>11</td>\n      <td>558</td>\n      <td>2</td>\n      <td>1</td>\n      <td>0.0</td>\n      <td>2</td>\n      <td>12</td>\n      <td>0</td>\n      <td>22</td>\n      <td>0</td>\n      <td>0</td>\n      <td>0</td>\n      <td>0</td>\n      <td>2.4084</td>\n    </tr>\n  </tbody>\n</table>\n</div>"
     },
     "metadata": {},
     "execution_count": 35
    }
   ],
   "source": [
    "df[(df['week'] == 4) & (df['season'] == 2020)]"
   ]
  },
  {
   "cell_type": "code",
   "execution_count": 36,
   "metadata": {},
   "outputs": [
    {
     "output_type": "execute_result",
     "data": {
      "text/plain": [
       "         match_id  week  season           teama_name            teamh_name  \\\n",
       "777  202101030buf    17    2020       Miami Dolphins         Buffalo Bills   \n",
       "658  202011080buf     9    2020     Seattle Seahawks         Buffalo Bills   \n",
       "614  202010180oti     6    2020       Houston Texans      Tennessee Titans   \n",
       "758  202012250nor    16    2020    Minnesota Vikings    New Orleans Saints   \n",
       "741  202012140cle    14    2020     Baltimore Ravens      Cleveland Browns   \n",
       "632  202010250cin     7    2020     Cleveland Browns    Cincinnati Bengals   \n",
       "586  202010040dal     4    2020     Cleveland Browns        Dallas Cowboys   \n",
       "746  202012200dal    15    2020  San Francisco 49ers        Dallas Cowboys   \n",
       "788  202101030htx    17    2020     Tennessee Titans        Houston Texans   \n",
       "557  202009200dal     2    2020      Atlanta Falcons        Dallas Cowboys   \n",
       "568  202009270buf     3    2020     Los Angeles Rams         Buffalo Bills   \n",
       "718  202012060crd    13    2020     Los Angeles Rams     Arizona Cardinals   \n",
       "750  202012200oti    15    2020        Detroit Lions      Tennessee Titans   \n",
       "637  202010250crd     7    2020     Seattle Seahawks     Arizona Cardinals   \n",
       "795  202101100pit    18    2020     Cleveland Browns   Pittsburgh Steelers   \n",
       "775  202101030tam    17    2020      Atlanta Falcons  Tampa Bay Buccaneers   \n",
       "649  202011010sea     8    2020  San Francisco 49ers      Seattle Seahawks   \n",
       "577  202009270sea     3    2020       Dallas Cowboys      Seattle Seahawks   \n",
       "787  202101030den    17    2020    Las Vegas Raiders        Denver Broncos   \n",
       "601  202010110kan     5    2020    Las Vegas Raiders    Kansas City Chiefs   \n",
       "778  202101030det    17    2020    Minnesota Vikings         Detroit Lions   \n",
       "643  202011010det     8    2020   Indianapolis Colts         Detroit Lions   \n",
       "602  202010110pit     5    2020  Philadelphia Eagles   Pittsburgh Steelers   \n",
       "693  202011220rai    11    2020   Kansas City Chiefs     Las Vegas Raiders   \n",
       "713  202012060chi    13    2020        Detroit Lions         Chicago Bears   \n",
       "538  202009130min     1    2020    Green Bay Packers     Minnesota Vikings   \n",
       "660  202011080kan     9    2020    Carolina Panthers    Kansas City Chiefs   \n",
       "692  202011220min    11    2020       Dallas Cowboys     Minnesota Vikings   \n",
       "550  202009170cle     2    2020   Cincinnati Bengals      Cleveland Browns   \n",
       "755  202012200nor    15    2020   Kansas City Chiefs    New Orleans Saints   \n",
       "\n",
       "     pts  ptsqf   yds  tds  tos  fdpc  sacks  sackyds  rtns  drives  drvtdpc  \\\n",
       "777   82     34   909    9    6   0.0      2       20     1      29        0   \n",
       "658   78     31   839    9    4   0.0     12       57     0      23        0   \n",
       "614   78     28  1019   11    2   1.0      4       37     0      21        0   \n",
       "758   85     27   947   12    2   0.0      2       17     0      22        0   \n",
       "741   89     35   878   12    1   1.0      4       22     0      23        0   \n",
       "632   71     34   866    9    3   1.0      4       35     0      18        0   \n",
       "586   87     32  1074   11    3   0.0      5       22     0      25        0   \n",
       "746   74     26   749    8    4   1.0      4       28     1      27        0   \n",
       "788   79     20   949    9    2   0.0      6       36     0      21        0   \n",
       "557   79     26   950    9    3   0.0      2       11     0      25        0   \n",
       "568   67     22   853    9    4   0.0      6       47     0      19        0   \n",
       "718   66     35   695    8    3   0.0      3       40     0      23        0   \n",
       "750   71     29   893    9    3   0.0      1        5     0      19        0   \n",
       "637   71     17  1091    8    5   0.0      2       16     0      25        0   \n",
       "795   85     27   943   10    5   1.0      0        0     0      27        0   \n",
       "775   71     28   870    8    3   0.0      2       15     0      19        0   \n",
       "649   64     30   701    9    2   1.0      5       35     0      21        0   \n",
       "577   69     17   934    9    4   1.0      6       31     0      28        0   \n",
       "787   63     30   911    7    4   0.0      5       27     0      28        0   \n",
       "601   72     24   903    9    2   0.0      4        8     0      23        0   \n",
       "778   72     12   925   10    2   1.0      4       27     0      20        0   \n",
       "643   62     28   692    8    2   0.0      7       54     0      23        0   \n",
       "602   67     14   703    9    3   0.0      6       42     0      20        0   \n",
       "693   66     28   824    9    2   1.0      0        0     0      18        0   \n",
       "713   64     21   849    9    2   0.0      4       20     0      23        0   \n",
       "538   77     38   904    9    1   0.0      2       11     0      20        0   \n",
       "660   64     27   832    8    1   1.0      4       18     0      18        0   \n",
       "692   59     29   806    8    3   0.0      3       16     0      21        0   \n",
       "550   65     21   787    8    2   0.0      3       31     0      19        0   \n",
       "755   61     25   696    8    2   1.0      5       31     0      26        0   \n",
       "\n",
       "     close  closeqf  ot   score  \n",
       "777      1        1   0  8.0472  \n",
       "658      1        1   0  7.8082  \n",
       "614      1        1   1  7.7822  \n",
       "758      1        1   0  7.7146  \n",
       "741      1        0   0  7.2444  \n",
       "632      1        1   0  7.2278  \n",
       "586      0        0   0  7.1862  \n",
       "746      1        1   0  7.0872  \n",
       "788      1        1   0  7.0152  \n",
       "557      1        1   0  7.0010  \n",
       "568      1        1   0  6.8194  \n",
       "718      0        1   0  6.7210  \n",
       "750      1        1   0  6.6744  \n",
       "637      1        1   1  6.6488  \n",
       "795      0        0   0  6.5944  \n",
       "775      1        1   0  6.5910  \n",
       "649      1        1   0  6.5908  \n",
       "577      1        1   0  6.5882  \n",
       "787      1        1   0  6.4908  \n",
       "601      0        1   0  6.4204  \n",
       "778      1        1   0  6.4170  \n",
       "643      0        1   0  6.4126  \n",
       "602      1        1   0  6.2444  \n",
       "693      1        1   0  6.2292  \n",
       "713      1        1   0  6.1692  \n",
       "538      0        0   0  6.1442  \n",
       "660      1        1   0  6.1436  \n",
       "692      1        1   0  6.1258  \n",
       "550      1        1   0  6.1156  \n",
       "755      1        1   0  6.0728  "
      ],
      "text/html": "<div>\n<style scoped>\n    .dataframe tbody tr th:only-of-type {\n        vertical-align: middle;\n    }\n\n    .dataframe tbody tr th {\n        vertical-align: top;\n    }\n\n    .dataframe thead th {\n        text-align: right;\n    }\n</style>\n<table border=\"1\" class=\"dataframe\">\n  <thead>\n    <tr style=\"text-align: right;\">\n      <th></th>\n      <th>match_id</th>\n      <th>week</th>\n      <th>season</th>\n      <th>teama_name</th>\n      <th>teamh_name</th>\n      <th>pts</th>\n      <th>ptsqf</th>\n      <th>yds</th>\n      <th>tds</th>\n      <th>tos</th>\n      <th>fdpc</th>\n      <th>sacks</th>\n      <th>sackyds</th>\n      <th>rtns</th>\n      <th>drives</th>\n      <th>drvtdpc</th>\n      <th>close</th>\n      <th>closeqf</th>\n      <th>ot</th>\n      <th>score</th>\n    </tr>\n  </thead>\n  <tbody>\n    <tr>\n      <th>777</th>\n      <td>202101030buf</td>\n      <td>17</td>\n      <td>2020</td>\n      <td>Miami Dolphins</td>\n      <td>Buffalo Bills</td>\n      <td>82</td>\n      <td>34</td>\n      <td>909</td>\n      <td>9</td>\n      <td>6</td>\n      <td>0.0</td>\n      <td>2</td>\n      <td>20</td>\n      <td>1</td>\n      <td>29</td>\n      <td>0</td>\n      <td>1</td>\n      <td>1</td>\n      <td>0</td>\n      <td>8.0472</td>\n    </tr>\n    <tr>\n      <th>658</th>\n      <td>202011080buf</td>\n      <td>9</td>\n      <td>2020</td>\n      <td>Seattle Seahawks</td>\n      <td>Buffalo Bills</td>\n      <td>78</td>\n      <td>31</td>\n      <td>839</td>\n      <td>9</td>\n      <td>4</td>\n      <td>0.0</td>\n      <td>12</td>\n      <td>57</td>\n      <td>0</td>\n      <td>23</td>\n      <td>0</td>\n      <td>1</td>\n      <td>1</td>\n      <td>0</td>\n      <td>7.8082</td>\n    </tr>\n    <tr>\n      <th>614</th>\n      <td>202010180oti</td>\n      <td>6</td>\n      <td>2020</td>\n      <td>Houston Texans</td>\n      <td>Tennessee Titans</td>\n      <td>78</td>\n      <td>28</td>\n      <td>1019</td>\n      <td>11</td>\n      <td>2</td>\n      <td>1.0</td>\n      <td>4</td>\n      <td>37</td>\n      <td>0</td>\n      <td>21</td>\n      <td>0</td>\n      <td>1</td>\n      <td>1</td>\n      <td>1</td>\n      <td>7.7822</td>\n    </tr>\n    <tr>\n      <th>758</th>\n      <td>202012250nor</td>\n      <td>16</td>\n      <td>2020</td>\n      <td>Minnesota Vikings</td>\n      <td>New Orleans Saints</td>\n      <td>85</td>\n      <td>27</td>\n      <td>947</td>\n      <td>12</td>\n      <td>2</td>\n      <td>0.0</td>\n      <td>2</td>\n      <td>17</td>\n      <td>0</td>\n      <td>22</td>\n      <td>0</td>\n      <td>1</td>\n      <td>1</td>\n      <td>0</td>\n      <td>7.7146</td>\n    </tr>\n    <tr>\n      <th>741</th>\n      <td>202012140cle</td>\n      <td>14</td>\n      <td>2020</td>\n      <td>Baltimore Ravens</td>\n      <td>Cleveland Browns</td>\n      <td>89</td>\n      <td>35</td>\n      <td>878</td>\n      <td>12</td>\n      <td>1</td>\n      <td>1.0</td>\n      <td>4</td>\n      <td>22</td>\n      <td>0</td>\n      <td>23</td>\n      <td>0</td>\n      <td>1</td>\n      <td>0</td>\n      <td>0</td>\n      <td>7.2444</td>\n    </tr>\n    <tr>\n      <th>632</th>\n      <td>202010250cin</td>\n      <td>7</td>\n      <td>2020</td>\n      <td>Cleveland Browns</td>\n      <td>Cincinnati Bengals</td>\n      <td>71</td>\n      <td>34</td>\n      <td>866</td>\n      <td>9</td>\n      <td>3</td>\n      <td>1.0</td>\n      <td>4</td>\n      <td>35</td>\n      <td>0</td>\n      <td>18</td>\n      <td>0</td>\n      <td>1</td>\n      <td>1</td>\n      <td>0</td>\n      <td>7.2278</td>\n    </tr>\n    <tr>\n      <th>586</th>\n      <td>202010040dal</td>\n      <td>4</td>\n      <td>2020</td>\n      <td>Cleveland Browns</td>\n      <td>Dallas Cowboys</td>\n      <td>87</td>\n      <td>32</td>\n      <td>1074</td>\n      <td>11</td>\n      <td>3</td>\n      <td>0.0</td>\n      <td>5</td>\n      <td>22</td>\n      <td>0</td>\n      <td>25</td>\n      <td>0</td>\n      <td>0</td>\n      <td>0</td>\n      <td>0</td>\n      <td>7.1862</td>\n    </tr>\n    <tr>\n      <th>746</th>\n      <td>202012200dal</td>\n      <td>15</td>\n      <td>2020</td>\n      <td>San Francisco 49ers</td>\n      <td>Dallas Cowboys</td>\n      <td>74</td>\n      <td>26</td>\n      <td>749</td>\n      <td>8</td>\n      <td>4</td>\n      <td>1.0</td>\n      <td>4</td>\n      <td>28</td>\n      <td>1</td>\n      <td>27</td>\n      <td>0</td>\n      <td>1</td>\n      <td>1</td>\n      <td>0</td>\n      <td>7.0872</td>\n    </tr>\n    <tr>\n      <th>788</th>\n      <td>202101030htx</td>\n      <td>17</td>\n      <td>2020</td>\n      <td>Tennessee Titans</td>\n      <td>Houston Texans</td>\n      <td>79</td>\n      <td>20</td>\n      <td>949</td>\n      <td>9</td>\n      <td>2</td>\n      <td>0.0</td>\n      <td>6</td>\n      <td>36</td>\n      <td>0</td>\n      <td>21</td>\n      <td>0</td>\n      <td>1</td>\n      <td>1</td>\n      <td>0</td>\n      <td>7.0152</td>\n    </tr>\n    <tr>\n      <th>557</th>\n      <td>202009200dal</td>\n      <td>2</td>\n      <td>2020</td>\n      <td>Atlanta Falcons</td>\n      <td>Dallas Cowboys</td>\n      <td>79</td>\n      <td>26</td>\n      <td>950</td>\n      <td>9</td>\n      <td>3</td>\n      <td>0.0</td>\n      <td>2</td>\n      <td>11</td>\n      <td>0</td>\n      <td>25</td>\n      <td>0</td>\n      <td>1</td>\n      <td>1</td>\n      <td>0</td>\n      <td>7.0010</td>\n    </tr>\n    <tr>\n      <th>568</th>\n      <td>202009270buf</td>\n      <td>3</td>\n      <td>2020</td>\n      <td>Los Angeles Rams</td>\n      <td>Buffalo Bills</td>\n      <td>67</td>\n      <td>22</td>\n      <td>853</td>\n      <td>9</td>\n      <td>4</td>\n      <td>0.0</td>\n      <td>6</td>\n      <td>47</td>\n      <td>0</td>\n      <td>19</td>\n      <td>0</td>\n      <td>1</td>\n      <td>1</td>\n      <td>0</td>\n      <td>6.8194</td>\n    </tr>\n    <tr>\n      <th>718</th>\n      <td>202012060crd</td>\n      <td>13</td>\n      <td>2020</td>\n      <td>Los Angeles Rams</td>\n      <td>Arizona Cardinals</td>\n      <td>66</td>\n      <td>35</td>\n      <td>695</td>\n      <td>8</td>\n      <td>3</td>\n      <td>0.0</td>\n      <td>3</td>\n      <td>40</td>\n      <td>0</td>\n      <td>23</td>\n      <td>0</td>\n      <td>0</td>\n      <td>1</td>\n      <td>0</td>\n      <td>6.7210</td>\n    </tr>\n    <tr>\n      <th>750</th>\n      <td>202012200oti</td>\n      <td>15</td>\n      <td>2020</td>\n      <td>Detroit Lions</td>\n      <td>Tennessee Titans</td>\n      <td>71</td>\n      <td>29</td>\n      <td>893</td>\n      <td>9</td>\n      <td>3</td>\n      <td>0.0</td>\n      <td>1</td>\n      <td>5</td>\n      <td>0</td>\n      <td>19</td>\n      <td>0</td>\n      <td>1</td>\n      <td>1</td>\n      <td>0</td>\n      <td>6.6744</td>\n    </tr>\n    <tr>\n      <th>637</th>\n      <td>202010250crd</td>\n      <td>7</td>\n      <td>2020</td>\n      <td>Seattle Seahawks</td>\n      <td>Arizona Cardinals</td>\n      <td>71</td>\n      <td>17</td>\n      <td>1091</td>\n      <td>8</td>\n      <td>5</td>\n      <td>0.0</td>\n      <td>2</td>\n      <td>16</td>\n      <td>0</td>\n      <td>25</td>\n      <td>0</td>\n      <td>1</td>\n      <td>1</td>\n      <td>1</td>\n      <td>6.6488</td>\n    </tr>\n    <tr>\n      <th>795</th>\n      <td>202101100pit</td>\n      <td>18</td>\n      <td>2020</td>\n      <td>Cleveland Browns</td>\n      <td>Pittsburgh Steelers</td>\n      <td>85</td>\n      <td>27</td>\n      <td>943</td>\n      <td>10</td>\n      <td>5</td>\n      <td>1.0</td>\n      <td>0</td>\n      <td>0</td>\n      <td>0</td>\n      <td>27</td>\n      <td>0</td>\n      <td>0</td>\n      <td>0</td>\n      <td>0</td>\n      <td>6.5944</td>\n    </tr>\n    <tr>\n      <th>775</th>\n      <td>202101030tam</td>\n      <td>17</td>\n      <td>2020</td>\n      <td>Atlanta Falcons</td>\n      <td>Tampa Bay Buccaneers</td>\n      <td>71</td>\n      <td>28</td>\n      <td>870</td>\n      <td>8</td>\n      <td>3</td>\n      <td>0.0</td>\n      <td>2</td>\n      <td>15</td>\n      <td>0</td>\n      <td>19</td>\n      <td>0</td>\n      <td>1</td>\n      <td>1</td>\n      <td>0</td>\n      <td>6.5910</td>\n    </tr>\n    <tr>\n      <th>649</th>\n      <td>202011010sea</td>\n      <td>8</td>\n      <td>2020</td>\n      <td>San Francisco 49ers</td>\n      <td>Seattle Seahawks</td>\n      <td>64</td>\n      <td>30</td>\n      <td>701</td>\n      <td>9</td>\n      <td>2</td>\n      <td>1.0</td>\n      <td>5</td>\n      <td>35</td>\n      <td>0</td>\n      <td>21</td>\n      <td>0</td>\n      <td>1</td>\n      <td>1</td>\n      <td>0</td>\n      <td>6.5908</td>\n    </tr>\n    <tr>\n      <th>577</th>\n      <td>202009270sea</td>\n      <td>3</td>\n      <td>2020</td>\n      <td>Dallas Cowboys</td>\n      <td>Seattle Seahawks</td>\n      <td>69</td>\n      <td>17</td>\n      <td>934</td>\n      <td>9</td>\n      <td>4</td>\n      <td>1.0</td>\n      <td>6</td>\n      <td>31</td>\n      <td>0</td>\n      <td>28</td>\n      <td>0</td>\n      <td>1</td>\n      <td>1</td>\n      <td>0</td>\n      <td>6.5882</td>\n    </tr>\n    <tr>\n      <th>787</th>\n      <td>202101030den</td>\n      <td>17</td>\n      <td>2020</td>\n      <td>Las Vegas Raiders</td>\n      <td>Denver Broncos</td>\n      <td>63</td>\n      <td>30</td>\n      <td>911</td>\n      <td>7</td>\n      <td>4</td>\n      <td>0.0</td>\n      <td>5</td>\n      <td>27</td>\n      <td>0</td>\n      <td>28</td>\n      <td>0</td>\n      <td>1</td>\n      <td>1</td>\n      <td>0</td>\n      <td>6.4908</td>\n    </tr>\n    <tr>\n      <th>601</th>\n      <td>202010110kan</td>\n      <td>5</td>\n      <td>2020</td>\n      <td>Las Vegas Raiders</td>\n      <td>Kansas City Chiefs</td>\n      <td>72</td>\n      <td>24</td>\n      <td>903</td>\n      <td>9</td>\n      <td>2</td>\n      <td>0.0</td>\n      <td>4</td>\n      <td>8</td>\n      <td>0</td>\n      <td>23</td>\n      <td>0</td>\n      <td>0</td>\n      <td>1</td>\n      <td>0</td>\n      <td>6.4204</td>\n    </tr>\n    <tr>\n      <th>778</th>\n      <td>202101030det</td>\n      <td>17</td>\n      <td>2020</td>\n      <td>Minnesota Vikings</td>\n      <td>Detroit Lions</td>\n      <td>72</td>\n      <td>12</td>\n      <td>925</td>\n      <td>10</td>\n      <td>2</td>\n      <td>1.0</td>\n      <td>4</td>\n      <td>27</td>\n      <td>0</td>\n      <td>20</td>\n      <td>0</td>\n      <td>1</td>\n      <td>1</td>\n      <td>0</td>\n      <td>6.4170</td>\n    </tr>\n    <tr>\n      <th>643</th>\n      <td>202011010det</td>\n      <td>8</td>\n      <td>2020</td>\n      <td>Indianapolis Colts</td>\n      <td>Detroit Lions</td>\n      <td>62</td>\n      <td>28</td>\n      <td>692</td>\n      <td>8</td>\n      <td>2</td>\n      <td>0.0</td>\n      <td>7</td>\n      <td>54</td>\n      <td>0</td>\n      <td>23</td>\n      <td>0</td>\n      <td>0</td>\n      <td>1</td>\n      <td>0</td>\n      <td>6.4126</td>\n    </tr>\n    <tr>\n      <th>602</th>\n      <td>202010110pit</td>\n      <td>5</td>\n      <td>2020</td>\n      <td>Philadelphia Eagles</td>\n      <td>Pittsburgh Steelers</td>\n      <td>67</td>\n      <td>14</td>\n      <td>703</td>\n      <td>9</td>\n      <td>3</td>\n      <td>0.0</td>\n      <td>6</td>\n      <td>42</td>\n      <td>0</td>\n      <td>20</td>\n      <td>0</td>\n      <td>1</td>\n      <td>1</td>\n      <td>0</td>\n      <td>6.2444</td>\n    </tr>\n    <tr>\n      <th>693</th>\n      <td>202011220rai</td>\n      <td>11</td>\n      <td>2020</td>\n      <td>Kansas City Chiefs</td>\n      <td>Las Vegas Raiders</td>\n      <td>66</td>\n      <td>28</td>\n      <td>824</td>\n      <td>9</td>\n      <td>2</td>\n      <td>1.0</td>\n      <td>0</td>\n      <td>0</td>\n      <td>0</td>\n      <td>18</td>\n      <td>0</td>\n      <td>1</td>\n      <td>1</td>\n      <td>0</td>\n      <td>6.2292</td>\n    </tr>\n    <tr>\n      <th>713</th>\n      <td>202012060chi</td>\n      <td>13</td>\n      <td>2020</td>\n      <td>Detroit Lions</td>\n      <td>Chicago Bears</td>\n      <td>64</td>\n      <td>21</td>\n      <td>849</td>\n      <td>9</td>\n      <td>2</td>\n      <td>0.0</td>\n      <td>4</td>\n      <td>20</td>\n      <td>0</td>\n      <td>23</td>\n      <td>0</td>\n      <td>1</td>\n      <td>1</td>\n      <td>0</td>\n      <td>6.1692</td>\n    </tr>\n    <tr>\n      <th>538</th>\n      <td>202009130min</td>\n      <td>1</td>\n      <td>2020</td>\n      <td>Green Bay Packers</td>\n      <td>Minnesota Vikings</td>\n      <td>77</td>\n      <td>38</td>\n      <td>904</td>\n      <td>9</td>\n      <td>1</td>\n      <td>0.0</td>\n      <td>2</td>\n      <td>11</td>\n      <td>0</td>\n      <td>20</td>\n      <td>0</td>\n      <td>0</td>\n      <td>0</td>\n      <td>0</td>\n      <td>6.1442</td>\n    </tr>\n    <tr>\n      <th>660</th>\n      <td>202011080kan</td>\n      <td>9</td>\n      <td>2020</td>\n      <td>Carolina Panthers</td>\n      <td>Kansas City Chiefs</td>\n      <td>64</td>\n      <td>27</td>\n      <td>832</td>\n      <td>8</td>\n      <td>1</td>\n      <td>1.0</td>\n      <td>4</td>\n      <td>18</td>\n      <td>0</td>\n      <td>18</td>\n      <td>0</td>\n      <td>1</td>\n      <td>1</td>\n      <td>0</td>\n      <td>6.1436</td>\n    </tr>\n    <tr>\n      <th>692</th>\n      <td>202011220min</td>\n      <td>11</td>\n      <td>2020</td>\n      <td>Dallas Cowboys</td>\n      <td>Minnesota Vikings</td>\n      <td>59</td>\n      <td>29</td>\n      <td>806</td>\n      <td>8</td>\n      <td>3</td>\n      <td>0.0</td>\n      <td>3</td>\n      <td>16</td>\n      <td>0</td>\n      <td>21</td>\n      <td>0</td>\n      <td>1</td>\n      <td>1</td>\n      <td>0</td>\n      <td>6.1258</td>\n    </tr>\n    <tr>\n      <th>550</th>\n      <td>202009170cle</td>\n      <td>2</td>\n      <td>2020</td>\n      <td>Cincinnati Bengals</td>\n      <td>Cleveland Browns</td>\n      <td>65</td>\n      <td>21</td>\n      <td>787</td>\n      <td>8</td>\n      <td>2</td>\n      <td>0.0</td>\n      <td>3</td>\n      <td>31</td>\n      <td>0</td>\n      <td>19</td>\n      <td>0</td>\n      <td>1</td>\n      <td>1</td>\n      <td>0</td>\n      <td>6.1156</td>\n    </tr>\n    <tr>\n      <th>755</th>\n      <td>202012200nor</td>\n      <td>15</td>\n      <td>2020</td>\n      <td>Kansas City Chiefs</td>\n      <td>New Orleans Saints</td>\n      <td>61</td>\n      <td>25</td>\n      <td>696</td>\n      <td>8</td>\n      <td>2</td>\n      <td>1.0</td>\n      <td>5</td>\n      <td>31</td>\n      <td>0</td>\n      <td>26</td>\n      <td>0</td>\n      <td>1</td>\n      <td>1</td>\n      <td>0</td>\n      <td>6.0728</td>\n    </tr>\n  </tbody>\n</table>\n</div>"
     },
     "metadata": {},
     "execution_count": 36
    }
   ],
   "source": [
    "df[df['season'] == 2020].head(30)"
   ]
  }
 ]
}