{
 "metadata": {
  "language_info": {
   "codemirror_mode": {
    "name": "ipython",
    "version": 3
   },
   "file_extension": ".py",
   "mimetype": "text/x-python",
   "name": "python",
   "nbconvert_exporter": "python",
   "pygments_lexer": "ipython3",
   "version": "3.9.5"
  },
  "orig_nbformat": 4,
  "kernelspec": {
   "name": "python3",
   "display_name": "Python 3.9.5 64-bit ('nfl-funindex-Q4vAvHch': pipenv)"
  },
  "interpreter": {
   "hash": "1b6d9f7b541a0ebd5e3edc426901e3c331e5fdaf93222c151ca71a4a8be11c87"
  }
 },
 "nbformat": 4,
 "nbformat_minor": 2,
 "cells": [
  {
   "cell_type": "code",
   "execution_count": null,
   "metadata": {},
   "outputs": [],
   "source": [
    "# NEXT - add new stats to game score model"
   ]
  },
  {
   "cell_type": "code",
   "execution_count": 1,
   "metadata": {},
   "outputs": [],
   "source": [
    "import sqlite3\n",
    "import pandas as pd\n",
    "import matplotlib.pyplot as plt"
   ]
  },
  {
   "cell_type": "code",
   "execution_count": 2,
   "metadata": {},
   "outputs": [],
   "source": [
    "con = sqlite3.Connection('db.db')"
   ]
  },
  {
   "cell_type": "code",
   "execution_count": 3,
   "metadata": {},
   "outputs": [],
   "source": [
    "cursor = con.cursor()"
   ]
  },
  {
   "cell_type": "code",
   "execution_count": 13,
   "metadata": {},
   "outputs": [],
   "source": [
    "df = pd.read_sql_query('''select *, ((pts * 0.04) + \n",
    "\n",
    "(ptsqf * 0.06) + \n",
    "\n",
    "(tds * 0.1) + \n",
    "\n",
    "(tos * 0.08) + \n",
    "\n",
    "(close * 0.25) + \n",
    "\n",
    "(closeqf * 0.75) +\n",
    "\n",
    "(sacks * 0.04) + \n",
    "\n",
    "(sackyds * 0.005) + \n",
    "\n",
    "(rtns * 0.3) + \n",
    "\n",
    "(tds/drives)) as score from summary_view''', con=con)"
   ]
  },
  {
   "cell_type": "code",
   "execution_count": 14,
   "metadata": {},
   "outputs": [
    {
     "output_type": "execute_result",
     "data": {
      "text/plain": [
       "             week       season         pts       ptsqf          yds  \\\n",
       "count  803.000000   803.000000  803.000000  803.000000   803.000000   \n",
       "mean     9.428394  2019.002491   44.793275   13.287671   706.225405   \n",
       "std      5.235196     0.817510   16.464868    7.764340   122.752484   \n",
       "min      1.000000  2018.000000    0.000000    0.000000   393.000000   \n",
       "25%      5.000000  2018.000000   36.000000    7.000000   616.500000   \n",
       "50%      9.000000  2019.000000   45.000000   13.000000   701.000000   \n",
       "75%     14.000000  2020.000000   55.000000   17.000000   787.000000   \n",
       "max     18.000000  2020.000000  105.000000   44.000000  1091.000000   \n",
       "\n",
       "              tds         tos        fdpc       sacks     sackyds        rtns  \\\n",
       "count  803.000000  803.000000  738.000000  803.000000  803.000000  803.000000   \n",
       "mean     5.122042    2.673724    0.250678    4.792030   32.028643    0.049813   \n",
       "std      2.156600    1.616049    0.433697    2.349794   17.376868    0.228863   \n",
       "min      0.000000    0.000000    0.000000    0.000000    0.000000    0.000000   \n",
       "25%      4.000000    1.500000    0.000000    3.000000   19.000000    0.000000   \n",
       "50%      5.000000    3.000000    0.000000    5.000000   30.000000    0.000000   \n",
       "75%      7.000000    4.000000    0.750000    6.000000   44.000000    0.000000   \n",
       "max     12.000000    8.000000    1.000000   12.000000   98.000000    2.000000   \n",
       "\n",
       "           drives  drvtdpc       close     closeqf       score  \n",
       "count  803.000000    803.0  803.000000  803.000000  803.000000  \n",
       "mean    22.178082      0.0    0.764633    0.738481    4.426880  \n",
       "std      3.216140      0.0    0.424493    0.439736    1.154149  \n",
       "min     13.000000      0.0    0.000000    0.000000    1.500000  \n",
       "25%     20.000000      0.0    1.000000    0.000000    3.615000  \n",
       "50%     22.000000      0.0    1.000000    1.000000    4.355000  \n",
       "75%     24.000000      0.0    1.000000    1.000000    5.232500  \n",
       "max     38.000000      0.0    1.000000    1.000000    9.600000  "
      ],
      "text/html": "<div>\n<style scoped>\n    .dataframe tbody tr th:only-of-type {\n        vertical-align: middle;\n    }\n\n    .dataframe tbody tr th {\n        vertical-align: top;\n    }\n\n    .dataframe thead th {\n        text-align: right;\n    }\n</style>\n<table border=\"1\" class=\"dataframe\">\n  <thead>\n    <tr style=\"text-align: right;\">\n      <th></th>\n      <th>week</th>\n      <th>season</th>\n      <th>pts</th>\n      <th>ptsqf</th>\n      <th>yds</th>\n      <th>tds</th>\n      <th>tos</th>\n      <th>fdpc</th>\n      <th>sacks</th>\n      <th>sackyds</th>\n      <th>rtns</th>\n      <th>drives</th>\n      <th>drvtdpc</th>\n      <th>close</th>\n      <th>closeqf</th>\n      <th>score</th>\n    </tr>\n  </thead>\n  <tbody>\n    <tr>\n      <th>count</th>\n      <td>803.000000</td>\n      <td>803.000000</td>\n      <td>803.000000</td>\n      <td>803.000000</td>\n      <td>803.000000</td>\n      <td>803.000000</td>\n      <td>803.000000</td>\n      <td>738.000000</td>\n      <td>803.000000</td>\n      <td>803.000000</td>\n      <td>803.000000</td>\n      <td>803.000000</td>\n      <td>803.0</td>\n      <td>803.000000</td>\n      <td>803.000000</td>\n      <td>803.000000</td>\n    </tr>\n    <tr>\n      <th>mean</th>\n      <td>9.428394</td>\n      <td>2019.002491</td>\n      <td>44.793275</td>\n      <td>13.287671</td>\n      <td>706.225405</td>\n      <td>5.122042</td>\n      <td>2.673724</td>\n      <td>0.250678</td>\n      <td>4.792030</td>\n      <td>32.028643</td>\n      <td>0.049813</td>\n      <td>22.178082</td>\n      <td>0.0</td>\n      <td>0.764633</td>\n      <td>0.738481</td>\n      <td>4.426880</td>\n    </tr>\n    <tr>\n      <th>std</th>\n      <td>5.235196</td>\n      <td>0.817510</td>\n      <td>16.464868</td>\n      <td>7.764340</td>\n      <td>122.752484</td>\n      <td>2.156600</td>\n      <td>1.616049</td>\n      <td>0.433697</td>\n      <td>2.349794</td>\n      <td>17.376868</td>\n      <td>0.228863</td>\n      <td>3.216140</td>\n      <td>0.0</td>\n      <td>0.424493</td>\n      <td>0.439736</td>\n      <td>1.154149</td>\n    </tr>\n    <tr>\n      <th>min</th>\n      <td>1.000000</td>\n      <td>2018.000000</td>\n      <td>0.000000</td>\n      <td>0.000000</td>\n      <td>393.000000</td>\n      <td>0.000000</td>\n      <td>0.000000</td>\n      <td>0.000000</td>\n      <td>0.000000</td>\n      <td>0.000000</td>\n      <td>0.000000</td>\n      <td>13.000000</td>\n      <td>0.0</td>\n      <td>0.000000</td>\n      <td>0.000000</td>\n      <td>1.500000</td>\n    </tr>\n    <tr>\n      <th>25%</th>\n      <td>5.000000</td>\n      <td>2018.000000</td>\n      <td>36.000000</td>\n      <td>7.000000</td>\n      <td>616.500000</td>\n      <td>4.000000</td>\n      <td>1.500000</td>\n      <td>0.000000</td>\n      <td>3.000000</td>\n      <td>19.000000</td>\n      <td>0.000000</td>\n      <td>20.000000</td>\n      <td>0.0</td>\n      <td>1.000000</td>\n      <td>0.000000</td>\n      <td>3.615000</td>\n    </tr>\n    <tr>\n      <th>50%</th>\n      <td>9.000000</td>\n      <td>2019.000000</td>\n      <td>45.000000</td>\n      <td>13.000000</td>\n      <td>701.000000</td>\n      <td>5.000000</td>\n      <td>3.000000</td>\n      <td>0.000000</td>\n      <td>5.000000</td>\n      <td>30.000000</td>\n      <td>0.000000</td>\n      <td>22.000000</td>\n      <td>0.0</td>\n      <td>1.000000</td>\n      <td>1.000000</td>\n      <td>4.355000</td>\n    </tr>\n    <tr>\n      <th>75%</th>\n      <td>14.000000</td>\n      <td>2020.000000</td>\n      <td>55.000000</td>\n      <td>17.000000</td>\n      <td>787.000000</td>\n      <td>7.000000</td>\n      <td>4.000000</td>\n      <td>0.750000</td>\n      <td>6.000000</td>\n      <td>44.000000</td>\n      <td>0.000000</td>\n      <td>24.000000</td>\n      <td>0.0</td>\n      <td>1.000000</td>\n      <td>1.000000</td>\n      <td>5.232500</td>\n    </tr>\n    <tr>\n      <th>max</th>\n      <td>18.000000</td>\n      <td>2020.000000</td>\n      <td>105.000000</td>\n      <td>44.000000</td>\n      <td>1091.000000</td>\n      <td>12.000000</td>\n      <td>8.000000</td>\n      <td>1.000000</td>\n      <td>12.000000</td>\n      <td>98.000000</td>\n      <td>2.000000</td>\n      <td>38.000000</td>\n      <td>0.0</td>\n      <td>1.000000</td>\n      <td>1.000000</td>\n      <td>9.600000</td>\n    </tr>\n  </tbody>\n</table>\n</div>"
     },
     "metadata": {},
     "execution_count": 14
    }
   ],
   "source": [
    "df.describe()"
   ]
  },
  {
   "cell_type": "code",
   "execution_count": 16,
   "metadata": {},
   "outputs": [],
   "source": [
    "df = df.sort_values('score', ascending=False)"
   ]
  },
  {
   "cell_type": "code",
   "execution_count": 18,
   "metadata": {},
   "outputs": [],
   "source": [
    "df.to_csv('df.csv')"
   ]
  }
 ]
}