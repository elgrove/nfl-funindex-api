{
 "metadata": {
  "language_info": {
   "codemirror_mode": {
    "name": "ipython",
    "version": 3
   },
   "file_extension": ".py",
   "mimetype": "text/x-python",
   "name": "python",
   "nbconvert_exporter": "python",
   "pygments_lexer": "ipython3",
   "version": "3.9.5"
  },
  "orig_nbformat": 4,
  "kernelspec": {
   "name": "python3",
   "display_name": "Python 3.9.5 64-bit ('nfl-funindex-Q4vAvHch': pipenv)"
  },
  "interpreter": {
   "hash": "1b6d9f7b541a0ebd5e3edc426901e3c331e5fdaf93222c151ca71a4a8be11c87"
  }
 },
 "nbformat": 4,
 "nbformat_minor": 2,
 "cells": [
  {
   "cell_type": "code",
   "execution_count": 1,
   "metadata": {},
   "outputs": [],
   "source": [
    "from scraper import scrape_game"
   ]
  },
  {
   "cell_type": "code",
   "execution_count": 2,
   "metadata": {},
   "outputs": [],
   "source": [
    "dict_ = scrape_game('https://www.pro-football-reference.com/boxscores/201509210clt.htm')"
   ]
  },
  {
   "cell_type": "code",
   "execution_count": 3,
   "metadata": {},
   "outputs": [
    {
     "output_type": "execute_result",
     "data": {
      "text/plain": [
       "{'match_id': '201509210clt',\n",
       " 'date': '2015-09-21',\n",
       " 'time': '20:30:00',\n",
       " 'week': 2,\n",
       " 'season': 2015,\n",
       " 'teama_name': 'New York Jets',\n",
       " 'teama_pts': 20,\n",
       " 'teama_pts_q1': 7,\n",
       " 'teama_pts_q2': 3,\n",
       " 'teama_pts_q3': 0,\n",
       " 'teama_pts_q4': 10,\n",
       " 'teama_yds': 344,\n",
       " 'teama_yds_rush': 101,\n",
       " 'teama_yds_pass': 244,\n",
       " 'teama_tds': 2,\n",
       " 'teama_tds_rush': 0,\n",
       " 'teama_tds_pass': 2,\n",
       " 'teama_tos': 1,\n",
       " 'teama_4d_att': 0,\n",
       " 'teama_4d_comp': 0,\n",
       " 'teama_sacks': 0,\n",
       " 'teama_sack_yds': 0,\n",
       " 'teama_rtn_td': 0,\n",
       " 'teama_drives': 11,\n",
       " 'teamh_name': 'Indianapolis Colts',\n",
       " 'teamh_pts': 7,\n",
       " 'teamh_pts_q1': 0,\n",
       " 'teamh_pts_q2': 0,\n",
       " 'teamh_pts_q3': 0,\n",
       " 'teamh_pts_q4': 7,\n",
       " 'teamh_yds': 343,\n",
       " 'teamh_yds_rush': 93,\n",
       " 'teamh_yds_pass': 250,\n",
       " 'teamh_tds': 1,\n",
       " 'teamh_tds_rush': 0,\n",
       " 'teamh_tds_pass': 1,\n",
       " 'teamh_tos': 5,\n",
       " 'teamh_4d_att': 0,\n",
       " 'teamh_4d_comp': 0,\n",
       " 'teamh_sacks': 1,\n",
       " 'teamh_sack_yds': 1,\n",
       " 'teamh_rtn_td': 0,\n",
       " 'teamh_drives': 11}"
      ]
     },
     "metadata": {},
     "execution_count": 3
    }
   ],
   "source": [
    "dict_"
   ]
  },
  {
   "cell_type": "code",
   "execution_count": null,
   "metadata": {},
   "outputs": [],
   "source": []
  }
 ]
}